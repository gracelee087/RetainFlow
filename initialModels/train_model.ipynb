{
  "cells": [
    {
      "cell_type": "markdown",
      "metadata": {
        "id": "KSOfxNjlGfph"
      },
      "source": [
        "**1. Importing the dependencies**"
      ]
    },
    {
      "cell_type": "markdown",
      "metadata": {},
      "source": [
        "## 이탈률 높은 고객 10% 고르기? ==> 이건 주로 어떻게 하는지 보기 "
      ]
    },
    {
      "cell_type": "code",
      "execution_count": 430,
      "metadata": {
        "id": "e3s8Q6OFGqzH"
      },
      "outputs": [],
      "source": [
        "import numpy as np\n",
        "import pandas as pd\n",
        "import matplotlib.pyplot as plt\n",
        "import seaborn as sns\n",
        "from sklearn.preprocessing import LabelEncoder\n",
        "from imblearn.over_sampling import SMOTE\n",
        "from sklearn.model_selection import train_test_split, cross_val_score\n",
        "from sklearn.tree import DecisionTreeClassifier\n",
        "from sklearn.ensemble import RandomForestClassifier\n",
        "from xgboost import XGBClassifier\n",
        "from sklearn.metrics import accuracy_score, confusion_matrix, classification_report\n",
        "import pickle\n",
        "\n",
        "from sklearn.model_selection import GridSearchCV\n",
        "\n",
        "\n",
        "import pandas as pd\n",
        "import numpy as np\n",
        "import pickle\n",
        "\n",
        "from sklearn.base import BaseEstimator, TransformerMixin\n",
        "from sklearn.preprocessing import OneHotEncoder\n",
        "from sklearn.compose import ColumnTransformer\n",
        "from sklearn.pipeline import Pipeline\n",
        "from sklearn.ensemble import RandomForestClassifier\n",
        "from xgboost import XGBClassifier\n",
        "from sklearn.linear_model import LogisticRegression\n",
        "from sklearn.ensemble import VotingClassifier\n",
        "from sklearn.model_selection import train_test_split\n",
        "from imblearn.over_sampling import SMOTE\n",
        "from imblearn.pipeline import Pipeline as ImbPipeline  # SMOTE용 Pipeline\n",
        "from sklearn.metrics import accuracy_score, confusion_matrix, classification_report, roc_auc_score\n"
      ]
    },
    {
      "cell_type": "code",
      "execution_count": null,
      "metadata": {},
      "outputs": [],
      "source": []
    },
    {
      "cell_type": "markdown",
      "metadata": {
        "id": "dMg01etGHvua"
      },
      "source": [
        "**2. Data Loading and Understanding**"
      ]
    },
    {
      "cell_type": "code",
      "execution_count": 431,
      "metadata": {
        "id": "pKQDAvYRHuN6"
      },
      "outputs": [],
      "source": [
        "# load teh csv data to a pandas dataframe\n",
        "df = pd.read_csv(\"customer_info.csv\")"
      ]
    },
    {
      "cell_type": "code",
      "execution_count": 432,
      "metadata": {
        "colab": {
          "base_uri": "https://localhost:8080/"
        },
        "id": "38RRn-9JH-U5",
        "outputId": "d883a455-b3f3-480a-ae94-b1daae237899"
      },
      "outputs": [
        {
          "data": {
            "text/plain": [
              "(7043, 21)"
            ]
          },
          "execution_count": 432,
          "metadata": {},
          "output_type": "execute_result"
        }
      ],
      "source": [
        "df.shape"
      ]
    },
    {
      "cell_type": "code",
      "execution_count": 433,
      "metadata": {},
      "outputs": [
        {
          "data": {
            "text/plain": [
              "' \\n고객 특성 → gender, SeniorCitizen, Partner(고객이 배우자(파트너)가 있는지 여부), Dependents(부양가족(아이, 부모 등)이 있는지 여부)\\n서비스 사용 여부 → PhoneService(고객이 전화 서비스를 이용하는지 여부), MultipleLines, InternetService, OnlineSecurity, DeviceProtection, TechSupport, StreamingTV, StreamingMovies\\n계약/결제 관련 → Contract(계약 형태), PaperlessBilling(종이 청구서 대신 전자 청구서를 사용하는지 여부), PaymentMethod\\n금액 관련 → MonthlyCharges, TotalCharges, tenure(고객이 해당 회사와 계약을 유지한 개월 수)\\n타겟 변수 → Churn : Yes = 서비스를 해지한 고객, No = 유지 중인 고객\\n'"
            ]
          },
          "execution_count": 433,
          "metadata": {},
          "output_type": "execute_result"
        }
      ],
      "source": [
        "\"\"\" \n",
        "고객 특성 → gender, SeniorCitizen, Partner(고객이 배우자(파트너)가 있는지 여부), Dependents(부양가족(아이, 부모 등)이 있는지 여부)\n",
        "서비스 사용 여부 → PhoneService(고객이 전화 서비스를 이용하는지 여부), MultipleLines, InternetService, OnlineSecurity, DeviceProtection, TechSupport, StreamingTV, StreamingMovies\n",
        "계약/결제 관련 → Contract(계약 형태), PaperlessBilling(종이 청구서 대신 전자 청구서를 사용하는지 여부), PaymentMethod\n",
        "금액 관련 → MonthlyCharges, TotalCharges, tenure(고객이 해당 회사와 계약을 유지한 개월 수)\n",
        "타겟 변수 → Churn : Yes = 서비스를 해지한 고객, No = 유지 중인 고객\n",
        "\"\"\""
      ]
    },
    {
      "cell_type": "code",
      "execution_count": 434,
      "metadata": {},
      "outputs": [
        {
          "data": {
            "text/plain": [
              "Index(['customerID', 'gender', 'SeniorCitizen', 'Partner', 'Dependents',\n",
              "       'tenure', 'PhoneService', 'MultipleLines', 'InternetService',\n",
              "       'OnlineSecurity', 'OnlineBackup', 'DeviceProtection', 'TechSupport',\n",
              "       'StreamingTV', 'StreamingMovies', 'Contract', 'PaperlessBilling',\n",
              "       'PaymentMethod', 'MonthlyCharges', 'TotalCharges', 'Churn'],\n",
              "      dtype='object')"
            ]
          },
          "execution_count": 434,
          "metadata": {},
          "output_type": "execute_result"
        }
      ],
      "source": [
        "df.columns"
      ]
    },
    {
      "cell_type": "code",
      "execution_count": 435,
      "metadata": {
        "colab": {
          "base_uri": "https://localhost:8080/",
          "height": 313
        },
        "id": "9XpNVJlcIB-n",
        "outputId": "cda716cd-0fd8-4019-8d1a-1ff634b5cfe1"
      },
      "outputs": [
        {
          "data": {
            "text/html": [
              "<div>\n",
              "<style scoped>\n",
              "    .dataframe tbody tr th:only-of-type {\n",
              "        vertical-align: middle;\n",
              "    }\n",
              "\n",
              "    .dataframe tbody tr th {\n",
              "        vertical-align: top;\n",
              "    }\n",
              "\n",
              "    .dataframe thead th {\n",
              "        text-align: right;\n",
              "    }\n",
              "</style>\n",
              "<table border=\"1\" class=\"dataframe\">\n",
              "  <thead>\n",
              "    <tr style=\"text-align: right;\">\n",
              "      <th></th>\n",
              "      <th>customerID</th>\n",
              "      <th>gender</th>\n",
              "      <th>SeniorCitizen</th>\n",
              "      <th>Partner</th>\n",
              "      <th>Dependents</th>\n",
              "      <th>tenure</th>\n",
              "      <th>PhoneService</th>\n",
              "      <th>MultipleLines</th>\n",
              "      <th>InternetService</th>\n",
              "      <th>OnlineSecurity</th>\n",
              "      <th>OnlineBackup</th>\n",
              "      <th>DeviceProtection</th>\n",
              "      <th>TechSupport</th>\n",
              "      <th>StreamingTV</th>\n",
              "      <th>StreamingMovies</th>\n",
              "      <th>Contract</th>\n",
              "      <th>PaperlessBilling</th>\n",
              "      <th>PaymentMethod</th>\n",
              "      <th>MonthlyCharges</th>\n",
              "      <th>TotalCharges</th>\n",
              "      <th>Churn</th>\n",
              "    </tr>\n",
              "  </thead>\n",
              "  <tbody>\n",
              "    <tr>\n",
              "      <th>0</th>\n",
              "      <td>7590-VHVEG</td>\n",
              "      <td>Female</td>\n",
              "      <td>0</td>\n",
              "      <td>Yes</td>\n",
              "      <td>No</td>\n",
              "      <td>1</td>\n",
              "      <td>No</td>\n",
              "      <td>No phone service</td>\n",
              "      <td>DSL</td>\n",
              "      <td>No</td>\n",
              "      <td>Yes</td>\n",
              "      <td>No</td>\n",
              "      <td>No</td>\n",
              "      <td>No</td>\n",
              "      <td>No</td>\n",
              "      <td>Month-to-month</td>\n",
              "      <td>Yes</td>\n",
              "      <td>Electronic check</td>\n",
              "      <td>29.85</td>\n",
              "      <td>29.85</td>\n",
              "      <td>No</td>\n",
              "    </tr>\n",
              "    <tr>\n",
              "      <th>1</th>\n",
              "      <td>5575-GNVDE</td>\n",
              "      <td>Male</td>\n",
              "      <td>0</td>\n",
              "      <td>No</td>\n",
              "      <td>No</td>\n",
              "      <td>34</td>\n",
              "      <td>Yes</td>\n",
              "      <td>No</td>\n",
              "      <td>DSL</td>\n",
              "      <td>Yes</td>\n",
              "      <td>No</td>\n",
              "      <td>Yes</td>\n",
              "      <td>No</td>\n",
              "      <td>No</td>\n",
              "      <td>No</td>\n",
              "      <td>One year</td>\n",
              "      <td>No</td>\n",
              "      <td>Mailed check</td>\n",
              "      <td>56.95</td>\n",
              "      <td>1889.5</td>\n",
              "      <td>No</td>\n",
              "    </tr>\n",
              "    <tr>\n",
              "      <th>2</th>\n",
              "      <td>3668-QPYBK</td>\n",
              "      <td>Male</td>\n",
              "      <td>0</td>\n",
              "      <td>No</td>\n",
              "      <td>No</td>\n",
              "      <td>2</td>\n",
              "      <td>Yes</td>\n",
              "      <td>No</td>\n",
              "      <td>DSL</td>\n",
              "      <td>Yes</td>\n",
              "      <td>Yes</td>\n",
              "      <td>No</td>\n",
              "      <td>No</td>\n",
              "      <td>No</td>\n",
              "      <td>No</td>\n",
              "      <td>Month-to-month</td>\n",
              "      <td>Yes</td>\n",
              "      <td>Mailed check</td>\n",
              "      <td>53.85</td>\n",
              "      <td>108.15</td>\n",
              "      <td>Yes</td>\n",
              "    </tr>\n",
              "    <tr>\n",
              "      <th>3</th>\n",
              "      <td>7795-CFOCW</td>\n",
              "      <td>Male</td>\n",
              "      <td>0</td>\n",
              "      <td>No</td>\n",
              "      <td>No</td>\n",
              "      <td>45</td>\n",
              "      <td>No</td>\n",
              "      <td>No phone service</td>\n",
              "      <td>DSL</td>\n",
              "      <td>Yes</td>\n",
              "      <td>No</td>\n",
              "      <td>Yes</td>\n",
              "      <td>Yes</td>\n",
              "      <td>No</td>\n",
              "      <td>No</td>\n",
              "      <td>One year</td>\n",
              "      <td>No</td>\n",
              "      <td>Bank transfer (automatic)</td>\n",
              "      <td>42.30</td>\n",
              "      <td>1840.75</td>\n",
              "      <td>No</td>\n",
              "    </tr>\n",
              "    <tr>\n",
              "      <th>4</th>\n",
              "      <td>9237-HQITU</td>\n",
              "      <td>Female</td>\n",
              "      <td>0</td>\n",
              "      <td>No</td>\n",
              "      <td>No</td>\n",
              "      <td>2</td>\n",
              "      <td>Yes</td>\n",
              "      <td>No</td>\n",
              "      <td>Fiber optic</td>\n",
              "      <td>No</td>\n",
              "      <td>No</td>\n",
              "      <td>No</td>\n",
              "      <td>No</td>\n",
              "      <td>No</td>\n",
              "      <td>No</td>\n",
              "      <td>Month-to-month</td>\n",
              "      <td>Yes</td>\n",
              "      <td>Electronic check</td>\n",
              "      <td>70.70</td>\n",
              "      <td>151.65</td>\n",
              "      <td>Yes</td>\n",
              "    </tr>\n",
              "  </tbody>\n",
              "</table>\n",
              "</div>"
            ],
            "text/plain": [
              "   customerID  gender  SeniorCitizen Partner Dependents  tenure PhoneService  \\\n",
              "0  7590-VHVEG  Female              0     Yes         No       1           No   \n",
              "1  5575-GNVDE    Male              0      No         No      34          Yes   \n",
              "2  3668-QPYBK    Male              0      No         No       2          Yes   \n",
              "3  7795-CFOCW    Male              0      No         No      45           No   \n",
              "4  9237-HQITU  Female              0      No         No       2          Yes   \n",
              "\n",
              "      MultipleLines InternetService OnlineSecurity OnlineBackup  \\\n",
              "0  No phone service             DSL             No          Yes   \n",
              "1                No             DSL            Yes           No   \n",
              "2                No             DSL            Yes          Yes   \n",
              "3  No phone service             DSL            Yes           No   \n",
              "4                No     Fiber optic             No           No   \n",
              "\n",
              "  DeviceProtection TechSupport StreamingTV StreamingMovies        Contract  \\\n",
              "0               No          No          No              No  Month-to-month   \n",
              "1              Yes          No          No              No        One year   \n",
              "2               No          No          No              No  Month-to-month   \n",
              "3              Yes         Yes          No              No        One year   \n",
              "4               No          No          No              No  Month-to-month   \n",
              "\n",
              "  PaperlessBilling              PaymentMethod  MonthlyCharges TotalCharges  \\\n",
              "0              Yes           Electronic check           29.85        29.85   \n",
              "1               No               Mailed check           56.95       1889.5   \n",
              "2              Yes               Mailed check           53.85       108.15   \n",
              "3               No  Bank transfer (automatic)           42.30      1840.75   \n",
              "4              Yes           Electronic check           70.70       151.65   \n",
              "\n",
              "  Churn  \n",
              "0    No  \n",
              "1    No  \n",
              "2   Yes  \n",
              "3    No  \n",
              "4   Yes  "
            ]
          },
          "execution_count": 435,
          "metadata": {},
          "output_type": "execute_result"
        }
      ],
      "source": [
        "df.head()"
      ]
    },
    {
      "cell_type": "code",
      "execution_count": 436,
      "metadata": {},
      "outputs": [],
      "source": [
        "# churn_rate = df['Churn'].value_counts(normalize=True) * 100\n",
        "# print(churn_rate)"
      ]
    },
    {
      "cell_type": "code",
      "execution_count": 437,
      "metadata": {
        "id": "HdiLdzdbIIYu"
      },
      "outputs": [],
      "source": [
        "pd.set_option(\"display.max_columns\", None) \n",
        "#Pandas 데이터프레임을 출력할 때 한 화면에 모든 컬럼을 다 보이게 해주는 옵션"
      ]
    },
    {
      "cell_type": "code",
      "execution_count": 438,
      "metadata": {
        "colab": {
          "base_uri": "https://localhost:8080/",
          "height": 166
        },
        "id": "QRldTkVLIRfg",
        "outputId": "46927a5b-0b9f-4ee9-ffcd-fc87904945e8"
      },
      "outputs": [
        {
          "data": {
            "text/html": [
              "<div>\n",
              "<style scoped>\n",
              "    .dataframe tbody tr th:only-of-type {\n",
              "        vertical-align: middle;\n",
              "    }\n",
              "\n",
              "    .dataframe tbody tr th {\n",
              "        vertical-align: top;\n",
              "    }\n",
              "\n",
              "    .dataframe thead th {\n",
              "        text-align: right;\n",
              "    }\n",
              "</style>\n",
              "<table border=\"1\" class=\"dataframe\">\n",
              "  <thead>\n",
              "    <tr style=\"text-align: right;\">\n",
              "      <th></th>\n",
              "      <th>customerID</th>\n",
              "      <th>gender</th>\n",
              "      <th>SeniorCitizen</th>\n",
              "      <th>Partner</th>\n",
              "      <th>Dependents</th>\n",
              "      <th>tenure</th>\n",
              "      <th>PhoneService</th>\n",
              "      <th>MultipleLines</th>\n",
              "      <th>InternetService</th>\n",
              "      <th>OnlineSecurity</th>\n",
              "      <th>OnlineBackup</th>\n",
              "      <th>DeviceProtection</th>\n",
              "      <th>TechSupport</th>\n",
              "      <th>StreamingTV</th>\n",
              "      <th>StreamingMovies</th>\n",
              "      <th>Contract</th>\n",
              "      <th>PaperlessBilling</th>\n",
              "      <th>PaymentMethod</th>\n",
              "      <th>MonthlyCharges</th>\n",
              "      <th>TotalCharges</th>\n",
              "      <th>Churn</th>\n",
              "    </tr>\n",
              "  </thead>\n",
              "  <tbody>\n",
              "    <tr>\n",
              "      <th>0</th>\n",
              "      <td>7590-VHVEG</td>\n",
              "      <td>Female</td>\n",
              "      <td>0</td>\n",
              "      <td>Yes</td>\n",
              "      <td>No</td>\n",
              "      <td>1</td>\n",
              "      <td>No</td>\n",
              "      <td>No phone service</td>\n",
              "      <td>DSL</td>\n",
              "      <td>No</td>\n",
              "      <td>Yes</td>\n",
              "      <td>No</td>\n",
              "      <td>No</td>\n",
              "      <td>No</td>\n",
              "      <td>No</td>\n",
              "      <td>Month-to-month</td>\n",
              "      <td>Yes</td>\n",
              "      <td>Electronic check</td>\n",
              "      <td>29.85</td>\n",
              "      <td>29.85</td>\n",
              "      <td>No</td>\n",
              "    </tr>\n",
              "    <tr>\n",
              "      <th>1</th>\n",
              "      <td>5575-GNVDE</td>\n",
              "      <td>Male</td>\n",
              "      <td>0</td>\n",
              "      <td>No</td>\n",
              "      <td>No</td>\n",
              "      <td>34</td>\n",
              "      <td>Yes</td>\n",
              "      <td>No</td>\n",
              "      <td>DSL</td>\n",
              "      <td>Yes</td>\n",
              "      <td>No</td>\n",
              "      <td>Yes</td>\n",
              "      <td>No</td>\n",
              "      <td>No</td>\n",
              "      <td>No</td>\n",
              "      <td>One year</td>\n",
              "      <td>No</td>\n",
              "      <td>Mailed check</td>\n",
              "      <td>56.95</td>\n",
              "      <td>1889.5</td>\n",
              "      <td>No</td>\n",
              "    </tr>\n",
              "  </tbody>\n",
              "</table>\n",
              "</div>"
            ],
            "text/plain": [
              "   customerID  gender  SeniorCitizen Partner Dependents  tenure PhoneService  \\\n",
              "0  7590-VHVEG  Female              0     Yes         No       1           No   \n",
              "1  5575-GNVDE    Male              0      No         No      34          Yes   \n",
              "\n",
              "      MultipleLines InternetService OnlineSecurity OnlineBackup  \\\n",
              "0  No phone service             DSL             No          Yes   \n",
              "1                No             DSL            Yes           No   \n",
              "\n",
              "  DeviceProtection TechSupport StreamingTV StreamingMovies        Contract  \\\n",
              "0               No          No          No              No  Month-to-month   \n",
              "1              Yes          No          No              No        One year   \n",
              "\n",
              "  PaperlessBilling     PaymentMethod  MonthlyCharges TotalCharges Churn  \n",
              "0              Yes  Electronic check           29.85        29.85    No  \n",
              "1               No      Mailed check           56.95       1889.5    No  "
            ]
          },
          "execution_count": 438,
          "metadata": {},
          "output_type": "execute_result"
        }
      ],
      "source": [
        "df.head(2)"
      ]
    },
    {
      "cell_type": "code",
      "execution_count": 439,
      "metadata": {
        "colab": {
          "base_uri": "https://localhost:8080/"
        },
        "id": "PAzEivWzIU8c",
        "outputId": "472e94a7-1416-46eb-cf0b-c15e471c1cf0"
      },
      "outputs": [
        {
          "name": "stdout",
          "output_type": "stream",
          "text": [
            "<class 'pandas.core.frame.DataFrame'>\n",
            "RangeIndex: 7043 entries, 0 to 7042\n",
            "Data columns (total 21 columns):\n",
            " #   Column            Non-Null Count  Dtype  \n",
            "---  ------            --------------  -----  \n",
            " 0   customerID        7043 non-null   object \n",
            " 1   gender            7043 non-null   object \n",
            " 2   SeniorCitizen     7043 non-null   int64  \n",
            " 3   Partner           7043 non-null   object \n",
            " 4   Dependents        7043 non-null   object \n",
            " 5   tenure            7043 non-null   int64  \n",
            " 6   PhoneService      7043 non-null   object \n",
            " 7   MultipleLines     7043 non-null   object \n",
            " 8   InternetService   7043 non-null   object \n",
            " 9   OnlineSecurity    7043 non-null   object \n",
            " 10  OnlineBackup      7043 non-null   object \n",
            " 11  DeviceProtection  7043 non-null   object \n",
            " 12  TechSupport       7043 non-null   object \n",
            " 13  StreamingTV       7043 non-null   object \n",
            " 14  StreamingMovies   7043 non-null   object \n",
            " 15  Contract          7043 non-null   object \n",
            " 16  PaperlessBilling  7043 non-null   object \n",
            " 17  PaymentMethod     7043 non-null   object \n",
            " 18  MonthlyCharges    7043 non-null   float64\n",
            " 19  TotalCharges      7043 non-null   object \n",
            " 20  Churn             7043 non-null   object \n",
            "dtypes: float64(1), int64(2), object(18)\n",
            "memory usage: 1.1+ MB\n"
          ]
        }
      ],
      "source": [
        "df.info()"
      ]
    },
    {
      "cell_type": "code",
      "execution_count": 440,
      "metadata": {
        "id": "sA_oK-1DJFEK"
      },
      "outputs": [],
      "source": [
        "# dropping customerID column as this is not required for modelling\n",
        "# df = df.drop(columns=[\"customerID\"])"
      ]
    },
    {
      "cell_type": "code",
      "execution_count": 441,
      "metadata": {
        "colab": {
          "base_uri": "https://localhost:8080/",
          "height": 149
        },
        "id": "JU5Q6F92KTRz",
        "outputId": "2c1c983a-9002-4753-eec7-a67cf8d49c3f"
      },
      "outputs": [
        {
          "data": {
            "text/html": [
              "<div>\n",
              "<style scoped>\n",
              "    .dataframe tbody tr th:only-of-type {\n",
              "        vertical-align: middle;\n",
              "    }\n",
              "\n",
              "    .dataframe tbody tr th {\n",
              "        vertical-align: top;\n",
              "    }\n",
              "\n",
              "    .dataframe thead th {\n",
              "        text-align: right;\n",
              "    }\n",
              "</style>\n",
              "<table border=\"1\" class=\"dataframe\">\n",
              "  <thead>\n",
              "    <tr style=\"text-align: right;\">\n",
              "      <th></th>\n",
              "      <th>customerID</th>\n",
              "      <th>gender</th>\n",
              "      <th>SeniorCitizen</th>\n",
              "      <th>Partner</th>\n",
              "      <th>Dependents</th>\n",
              "      <th>tenure</th>\n",
              "      <th>PhoneService</th>\n",
              "      <th>MultipleLines</th>\n",
              "      <th>InternetService</th>\n",
              "      <th>OnlineSecurity</th>\n",
              "      <th>OnlineBackup</th>\n",
              "      <th>DeviceProtection</th>\n",
              "      <th>TechSupport</th>\n",
              "      <th>StreamingTV</th>\n",
              "      <th>StreamingMovies</th>\n",
              "      <th>Contract</th>\n",
              "      <th>PaperlessBilling</th>\n",
              "      <th>PaymentMethod</th>\n",
              "      <th>MonthlyCharges</th>\n",
              "      <th>TotalCharges</th>\n",
              "      <th>Churn</th>\n",
              "    </tr>\n",
              "  </thead>\n",
              "  <tbody>\n",
              "    <tr>\n",
              "      <th>0</th>\n",
              "      <td>7590-VHVEG</td>\n",
              "      <td>Female</td>\n",
              "      <td>0</td>\n",
              "      <td>Yes</td>\n",
              "      <td>No</td>\n",
              "      <td>1</td>\n",
              "      <td>No</td>\n",
              "      <td>No phone service</td>\n",
              "      <td>DSL</td>\n",
              "      <td>No</td>\n",
              "      <td>Yes</td>\n",
              "      <td>No</td>\n",
              "      <td>No</td>\n",
              "      <td>No</td>\n",
              "      <td>No</td>\n",
              "      <td>Month-to-month</td>\n",
              "      <td>Yes</td>\n",
              "      <td>Electronic check</td>\n",
              "      <td>29.85</td>\n",
              "      <td>29.85</td>\n",
              "      <td>No</td>\n",
              "    </tr>\n",
              "    <tr>\n",
              "      <th>1</th>\n",
              "      <td>5575-GNVDE</td>\n",
              "      <td>Male</td>\n",
              "      <td>0</td>\n",
              "      <td>No</td>\n",
              "      <td>No</td>\n",
              "      <td>34</td>\n",
              "      <td>Yes</td>\n",
              "      <td>No</td>\n",
              "      <td>DSL</td>\n",
              "      <td>Yes</td>\n",
              "      <td>No</td>\n",
              "      <td>Yes</td>\n",
              "      <td>No</td>\n",
              "      <td>No</td>\n",
              "      <td>No</td>\n",
              "      <td>One year</td>\n",
              "      <td>No</td>\n",
              "      <td>Mailed check</td>\n",
              "      <td>56.95</td>\n",
              "      <td>1889.5</td>\n",
              "      <td>No</td>\n",
              "    </tr>\n",
              "  </tbody>\n",
              "</table>\n",
              "</div>"
            ],
            "text/plain": [
              "   customerID  gender  SeniorCitizen Partner Dependents  tenure PhoneService  \\\n",
              "0  7590-VHVEG  Female              0     Yes         No       1           No   \n",
              "1  5575-GNVDE    Male              0      No         No      34          Yes   \n",
              "\n",
              "      MultipleLines InternetService OnlineSecurity OnlineBackup  \\\n",
              "0  No phone service             DSL             No          Yes   \n",
              "1                No             DSL            Yes           No   \n",
              "\n",
              "  DeviceProtection TechSupport StreamingTV StreamingMovies        Contract  \\\n",
              "0               No          No          No              No  Month-to-month   \n",
              "1              Yes          No          No              No        One year   \n",
              "\n",
              "  PaperlessBilling     PaymentMethod  MonthlyCharges TotalCharges Churn  \n",
              "0              Yes  Electronic check           29.85        29.85    No  \n",
              "1               No      Mailed check           56.95       1889.5    No  "
            ]
          },
          "execution_count": 441,
          "metadata": {},
          "output_type": "execute_result"
        }
      ],
      "source": [
        "df.head(2)"
      ]
    },
    {
      "cell_type": "code",
      "execution_count": 442,
      "metadata": {
        "colab": {
          "base_uri": "https://localhost:8080/"
        },
        "id": "zxUPY9zTKtP5",
        "outputId": "db34521a-9f19-4597-9e04-f56b37ce809f"
      },
      "outputs": [
        {
          "data": {
            "text/plain": [
              "Index(['customerID', 'gender', 'SeniorCitizen', 'Partner', 'Dependents',\n",
              "       'tenure', 'PhoneService', 'MultipleLines', 'InternetService',\n",
              "       'OnlineSecurity', 'OnlineBackup', 'DeviceProtection', 'TechSupport',\n",
              "       'StreamingTV', 'StreamingMovies', 'Contract', 'PaperlessBilling',\n",
              "       'PaymentMethod', 'MonthlyCharges', 'TotalCharges', 'Churn'],\n",
              "      dtype='object')"
            ]
          },
          "execution_count": 442,
          "metadata": {},
          "output_type": "execute_result"
        }
      ],
      "source": [
        "df.columns"
      ]
    },
    {
      "cell_type": "code",
      "execution_count": 443,
      "metadata": {
        "colab": {
          "base_uri": "https://localhost:8080/"
        },
        "id": "l34hMyJMKw3D",
        "outputId": "f9a52cdc-c3ba-403b-c958-35b18bc3e28c"
      },
      "outputs": [
        {
          "name": "stdout",
          "output_type": "stream",
          "text": [
            "['Female' 'Male']\n"
          ]
        }
      ],
      "source": [
        "print(df[\"gender\"].unique())\n",
        "#데이터프레임 df에서 \"gender\" 컬럼만 선택.해당 컬럼에 들어있는 고유값(unique values) 을 중복 없이 반환"
      ]
    },
    {
      "cell_type": "code",
      "execution_count": 444,
      "metadata": {
        "colab": {
          "base_uri": "https://localhost:8080/"
        },
        "id": "lKiFNy2rLEUx",
        "outputId": "c420d9a6-0d4b-4660-986a-f9e28f7a877b"
      },
      "outputs": [
        {
          "name": "stdout",
          "output_type": "stream",
          "text": [
            "[0 1]\n"
          ]
        }
      ],
      "source": [
        "print(df[\"SeniorCitizen\"].unique())"
      ]
    },
    {
      "cell_type": "code",
      "execution_count": 445,
      "metadata": {},
      "outputs": [
        {
          "name": "stdout",
          "output_type": "stream",
          "text": [
            "   customerID  gender  SeniorCitizen Partner Dependents  tenure PhoneService  \\\n",
            "0  7590-VHVEG  Female              0     Yes         No       1           No   \n",
            "1  5575-GNVDE    Male              0      No         No      34          Yes   \n",
            "2  3668-QPYBK    Male              0      No         No       2          Yes   \n",
            "3  7795-CFOCW    Male              0      No         No      45           No   \n",
            "4  9237-HQITU  Female              0      No         No       2          Yes   \n",
            "\n",
            "      MultipleLines InternetService OnlineSecurity OnlineBackup  \\\n",
            "0  No phone service             DSL             No          Yes   \n",
            "1                No             DSL            Yes           No   \n",
            "2                No             DSL            Yes          Yes   \n",
            "3  No phone service             DSL            Yes           No   \n",
            "4                No     Fiber optic             No           No   \n",
            "\n",
            "  DeviceProtection TechSupport StreamingTV StreamingMovies        Contract  \\\n",
            "0               No          No          No              No  Month-to-month   \n",
            "1              Yes          No          No              No        One year   \n",
            "2               No          No          No              No  Month-to-month   \n",
            "3              Yes         Yes          No              No        One year   \n",
            "4               No          No          No              No  Month-to-month   \n",
            "\n",
            "  PaperlessBilling              PaymentMethod  MonthlyCharges TotalCharges  \\\n",
            "0              Yes           Electronic check           29.85        29.85   \n",
            "1               No               Mailed check           56.95       1889.5   \n",
            "2              Yes               Mailed check           53.85       108.15   \n",
            "3               No  Bank transfer (automatic)           42.30      1840.75   \n",
            "4              Yes           Electronic check           70.70       151.65   \n",
            "\n",
            "  Churn  \n",
            "0    No  \n",
            "1    No  \n",
            "2   Yes  \n",
            "3    No  \n",
            "4   Yes  \n",
            "customerID           object\n",
            "gender               object\n",
            "SeniorCitizen         int64\n",
            "Partner              object\n",
            "Dependents           object\n",
            "tenure                int64\n",
            "PhoneService         object\n",
            "MultipleLines        object\n",
            "InternetService      object\n",
            "OnlineSecurity       object\n",
            "OnlineBackup         object\n",
            "DeviceProtection     object\n",
            "TechSupport          object\n",
            "StreamingTV          object\n",
            "StreamingMovies      object\n",
            "Contract             object\n",
            "PaperlessBilling     object\n",
            "PaymentMethod        object\n",
            "MonthlyCharges      float64\n",
            "TotalCharges         object\n",
            "Churn                object\n",
            "dtype: object\n"
          ]
        }
      ],
      "source": [
        "print(df.head())\n",
        "print(df.dtypes)"
      ]
    },
    {
      "cell_type": "code",
      "execution_count": 446,
      "metadata": {
        "colab": {
          "base_uri": "https://localhost:8080/"
        },
        "id": "heeFR4JJKULo",
        "outputId": "53195360-e58a-4c92-b212-b030ba51cf2c"
      },
      "outputs": [
        {
          "name": "stdout",
          "output_type": "stream",
          "text": [
            "customerID ['7590-VHVEG' '5575-GNVDE' '3668-QPYBK' ... '4801-JZAZL' '8361-LTMKD'\n",
            " '3186-AJIEK']\n",
            "--------------------------------------------------\n",
            "gender ['Female' 'Male']\n",
            "--------------------------------------------------\n",
            "SeniorCitizen [0 1]\n",
            "--------------------------------------------------\n",
            "Partner ['Yes' 'No']\n",
            "--------------------------------------------------\n",
            "Dependents ['No' 'Yes']\n",
            "--------------------------------------------------\n",
            "PhoneService ['No' 'Yes']\n",
            "--------------------------------------------------\n",
            "MultipleLines ['No phone service' 'No' 'Yes']\n",
            "--------------------------------------------------\n",
            "InternetService ['DSL' 'Fiber optic' 'No']\n",
            "--------------------------------------------------\n",
            "OnlineSecurity ['No' 'Yes' 'No internet service']\n",
            "--------------------------------------------------\n",
            "OnlineBackup ['Yes' 'No' 'No internet service']\n",
            "--------------------------------------------------\n",
            "DeviceProtection ['No' 'Yes' 'No internet service']\n",
            "--------------------------------------------------\n",
            "TechSupport ['No' 'Yes' 'No internet service']\n",
            "--------------------------------------------------\n",
            "StreamingTV ['No' 'Yes' 'No internet service']\n",
            "--------------------------------------------------\n",
            "StreamingMovies ['No' 'Yes' 'No internet service']\n",
            "--------------------------------------------------\n",
            "Contract ['Month-to-month' 'One year' 'Two year']\n",
            "--------------------------------------------------\n",
            "PaperlessBilling ['Yes' 'No']\n",
            "--------------------------------------------------\n",
            "PaymentMethod ['Electronic check' 'Mailed check' 'Bank transfer (automatic)'\n",
            " 'Credit card (automatic)']\n",
            "--------------------------------------------------\n",
            "Churn ['No' 'Yes']\n",
            "--------------------------------------------------\n"
          ]
        }
      ],
      "source": [
        "# printing the unique values in all the columns\n",
        "# 숫자형 변수 빼고 나머지 컬럼들의 고유한 값들(중복빼고)을 출력\n",
        "\n",
        "\n",
        "numerical_features_list = [\"tenure\", \"MonthlyCharges\", \"TotalCharges\"]\n",
        "\n",
        "\n",
        "for col in df.columns:\n",
        "  if col not in numerical_features_list:\n",
        "    print(col, df[col].unique())\n",
        "    print(\"-\"*50)\n",
        "\n"
      ]
    },
    {
      "cell_type": "code",
      "execution_count": 447,
      "metadata": {
        "colab": {
          "base_uri": "https://localhost:8080/"
        },
        "id": "l9lEd00ILJB4",
        "outputId": "5d0b506f-0680-40e6-b314-2b00c5036933"
      },
      "outputs": [
        {
          "name": "stdout",
          "output_type": "stream",
          "text": [
            "customerID          0\n",
            "gender              0\n",
            "SeniorCitizen       0\n",
            "Partner             0\n",
            "Dependents          0\n",
            "tenure              0\n",
            "PhoneService        0\n",
            "MultipleLines       0\n",
            "InternetService     0\n",
            "OnlineSecurity      0\n",
            "OnlineBackup        0\n",
            "DeviceProtection    0\n",
            "TechSupport         0\n",
            "StreamingTV         0\n",
            "StreamingMovies     0\n",
            "Contract            0\n",
            "PaperlessBilling    0\n",
            "PaymentMethod       0\n",
            "MonthlyCharges      0\n",
            "TotalCharges        0\n",
            "Churn               0\n",
            "dtype: int64\n"
          ]
        }
      ],
      "source": [
        "print(df.isnull().sum())"
      ]
    },
    {
      "cell_type": "code",
      "execution_count": 448,
      "metadata": {},
      "outputs": [
        {
          "name": "stdout",
          "output_type": "stream",
          "text": [
            "<class 'pandas.core.series.Series'>\n",
            "RangeIndex: 7043 entries, 0 to 7042\n",
            "Series name: TotalCharges\n",
            "Non-Null Count  Dtype \n",
            "--------------  ----- \n",
            "7043 non-null   object\n",
            "dtypes: object(1)\n",
            "memory usage: 55.2+ KB\n"
          ]
        }
      ],
      "source": [
        "df[\"TotalCharges\"].info()"
      ]
    },
    {
      "cell_type": "code",
      "execution_count": 449,
      "metadata": {
        "id": "JIwRHLf7L_X8"
      },
      "outputs": [],
      "source": [
        "# df[\"TotalCharges\"] = df[\"TotalCharges\"].astype(float)\n",
        "# TotalCharges 컬럼이 원래 문자열이라 숫자로 바꾸려고 시도했음 → 실패 (빈칸 때문).\n",
        "# 빈칸 \" \" 값들을 찾아내서 \"0.0\"으로 치환.\n",
        "# 전체 컬럼을 float으로 변환."
      ]
    },
    {
      "cell_type": "code",
      "execution_count": 450,
      "metadata": {
        "colab": {
          "base_uri": "https://localhost:8080/",
          "height": 570
        },
        "id": "gvHFhTBRMJJt",
        "outputId": "cbc0facb-7132-4bfe-f166-4e6e8fc54c15"
      },
      "outputs": [],
      "source": [
        "#삭제하기 df[df[\"TotalCharges\"]==\" \"]# "
      ]
    },
    {
      "cell_type": "code",
      "execution_count": 451,
      "metadata": {
        "colab": {
          "base_uri": "https://localhost:8080/"
        },
        "id": "T8_MOpGIMbSt",
        "outputId": "8d436770-a480-4b8a-edf3-554e6788540b"
      },
      "outputs": [],
      "source": [
        "#삭제하기len(df[df[\"TotalCharges\"]==\" \"])"
      ]
    },
    {
      "cell_type": "code",
      "execution_count": 452,
      "metadata": {
        "id": "YjdpbUlaMejM"
      },
      "outputs": [],
      "source": [
        "#삭제하기df[\"TotalCharges\"] = df[\"TotalCharges\"].replace({\" \": \"0.0\"})"
      ]
    },
    {
      "cell_type": "code",
      "execution_count": 453,
      "metadata": {
        "id": "b7xVSlgSNcb8"
      },
      "outputs": [],
      "source": [
        "#삭제하기df[\"TotalCharges\"] = df[\"TotalCharges\"].astype(float)"
      ]
    },
    {
      "cell_type": "code",
      "execution_count": 454,
      "metadata": {
        "colab": {
          "base_uri": "https://localhost:8080/"
        },
        "id": "1_VJd8WvNkei",
        "outputId": "6411f6ae-b927-405a-c0cc-1da5a707b846"
      },
      "outputs": [
        {
          "name": "stdout",
          "output_type": "stream",
          "text": [
            "Churn\n",
            "No     5174\n",
            "Yes    1869\n",
            "Name: count, dtype: int64\n"
          ]
        }
      ],
      "source": [
        "# checking the class distribution of target column\n",
        "print(df[\"Churn\"].value_counts())"
      ]
    },
    {
      "cell_type": "markdown",
      "metadata": {
        "id": "NlXtkHNYOFJa"
      },
      "source": [
        "**Insights:**\n",
        "1. Customer ID removed as it is not required for modelling\n",
        "2. No mmissing values in the dataset\n",
        "3. Missing values in the TotalCharges column were replaced with 0\n",
        "4. Class imbalance identified in the target"
      ]
    },
    {
      "cell_type": "markdown",
      "metadata": {
        "id": "2bmA7i3OOcld"
      },
      "source": [
        "**3. Exploratory Data Analysis (EDA)**"
      ]
    },
    {
      "cell_type": "code",
      "execution_count": 455,
      "metadata": {
        "colab": {
          "base_uri": "https://localhost:8080/"
        },
        "id": "slxl5eMnN1z-",
        "outputId": "58be1bfa-c4aa-406f-e4e7-b6b2c9329fa8"
      },
      "outputs": [
        {
          "data": {
            "text/plain": [
              "(7043, 21)"
            ]
          },
          "execution_count": 455,
          "metadata": {},
          "output_type": "execute_result"
        }
      ],
      "source": [
        "df.shape"
      ]
    },
    {
      "cell_type": "code",
      "execution_count": 456,
      "metadata": {
        "colab": {
          "base_uri": "https://localhost:8080/"
        },
        "id": "Xp3BY9TLOj3r",
        "outputId": "c2662004-a0b2-40cb-da55-512846470bc6"
      },
      "outputs": [
        {
          "data": {
            "text/plain": [
              "Index(['customerID', 'gender', 'SeniorCitizen', 'Partner', 'Dependents',\n",
              "       'tenure', 'PhoneService', 'MultipleLines', 'InternetService',\n",
              "       'OnlineSecurity', 'OnlineBackup', 'DeviceProtection', 'TechSupport',\n",
              "       'StreamingTV', 'StreamingMovies', 'Contract', 'PaperlessBilling',\n",
              "       'PaymentMethod', 'MonthlyCharges', 'TotalCharges', 'Churn'],\n",
              "      dtype='object')"
            ]
          },
          "execution_count": 456,
          "metadata": {},
          "output_type": "execute_result"
        }
      ],
      "source": [
        "df.columns"
      ]
    },
    {
      "cell_type": "code",
      "execution_count": 457,
      "metadata": {
        "colab": {
          "base_uri": "https://localhost:8080/",
          "height": 149
        },
        "id": "EM_hV4-EOlBo",
        "outputId": "2aad885a-8277-4914-c8c9-14b299b2f380"
      },
      "outputs": [
        {
          "data": {
            "text/html": [
              "<div>\n",
              "<style scoped>\n",
              "    .dataframe tbody tr th:only-of-type {\n",
              "        vertical-align: middle;\n",
              "    }\n",
              "\n",
              "    .dataframe tbody tr th {\n",
              "        vertical-align: top;\n",
              "    }\n",
              "\n",
              "    .dataframe thead th {\n",
              "        text-align: right;\n",
              "    }\n",
              "</style>\n",
              "<table border=\"1\" class=\"dataframe\">\n",
              "  <thead>\n",
              "    <tr style=\"text-align: right;\">\n",
              "      <th></th>\n",
              "      <th>customerID</th>\n",
              "      <th>gender</th>\n",
              "      <th>SeniorCitizen</th>\n",
              "      <th>Partner</th>\n",
              "      <th>Dependents</th>\n",
              "      <th>tenure</th>\n",
              "      <th>PhoneService</th>\n",
              "      <th>MultipleLines</th>\n",
              "      <th>InternetService</th>\n",
              "      <th>OnlineSecurity</th>\n",
              "      <th>OnlineBackup</th>\n",
              "      <th>DeviceProtection</th>\n",
              "      <th>TechSupport</th>\n",
              "      <th>StreamingTV</th>\n",
              "      <th>StreamingMovies</th>\n",
              "      <th>Contract</th>\n",
              "      <th>PaperlessBilling</th>\n",
              "      <th>PaymentMethod</th>\n",
              "      <th>MonthlyCharges</th>\n",
              "      <th>TotalCharges</th>\n",
              "      <th>Churn</th>\n",
              "    </tr>\n",
              "  </thead>\n",
              "  <tbody>\n",
              "    <tr>\n",
              "      <th>0</th>\n",
              "      <td>7590-VHVEG</td>\n",
              "      <td>Female</td>\n",
              "      <td>0</td>\n",
              "      <td>Yes</td>\n",
              "      <td>No</td>\n",
              "      <td>1</td>\n",
              "      <td>No</td>\n",
              "      <td>No phone service</td>\n",
              "      <td>DSL</td>\n",
              "      <td>No</td>\n",
              "      <td>Yes</td>\n",
              "      <td>No</td>\n",
              "      <td>No</td>\n",
              "      <td>No</td>\n",
              "      <td>No</td>\n",
              "      <td>Month-to-month</td>\n",
              "      <td>Yes</td>\n",
              "      <td>Electronic check</td>\n",
              "      <td>29.85</td>\n",
              "      <td>29.85</td>\n",
              "      <td>No</td>\n",
              "    </tr>\n",
              "    <tr>\n",
              "      <th>1</th>\n",
              "      <td>5575-GNVDE</td>\n",
              "      <td>Male</td>\n",
              "      <td>0</td>\n",
              "      <td>No</td>\n",
              "      <td>No</td>\n",
              "      <td>34</td>\n",
              "      <td>Yes</td>\n",
              "      <td>No</td>\n",
              "      <td>DSL</td>\n",
              "      <td>Yes</td>\n",
              "      <td>No</td>\n",
              "      <td>Yes</td>\n",
              "      <td>No</td>\n",
              "      <td>No</td>\n",
              "      <td>No</td>\n",
              "      <td>One year</td>\n",
              "      <td>No</td>\n",
              "      <td>Mailed check</td>\n",
              "      <td>56.95</td>\n",
              "      <td>1889.5</td>\n",
              "      <td>No</td>\n",
              "    </tr>\n",
              "  </tbody>\n",
              "</table>\n",
              "</div>"
            ],
            "text/plain": [
              "   customerID  gender  SeniorCitizen Partner Dependents  tenure PhoneService  \\\n",
              "0  7590-VHVEG  Female              0     Yes         No       1           No   \n",
              "1  5575-GNVDE    Male              0      No         No      34          Yes   \n",
              "\n",
              "      MultipleLines InternetService OnlineSecurity OnlineBackup  \\\n",
              "0  No phone service             DSL             No          Yes   \n",
              "1                No             DSL            Yes           No   \n",
              "\n",
              "  DeviceProtection TechSupport StreamingTV StreamingMovies        Contract  \\\n",
              "0               No          No          No              No  Month-to-month   \n",
              "1              Yes          No          No              No        One year   \n",
              "\n",
              "  PaperlessBilling     PaymentMethod  MonthlyCharges TotalCharges Churn  \n",
              "0              Yes  Electronic check           29.85        29.85    No  \n",
              "1               No      Mailed check           56.95       1889.5    No  "
            ]
          },
          "execution_count": 457,
          "metadata": {},
          "output_type": "execute_result"
        }
      ],
      "source": [
        "df.head(2)"
      ]
    },
    {
      "cell_type": "code",
      "execution_count": 458,
      "metadata": {
        "colab": {
          "base_uri": "https://localhost:8080/",
          "height": 300
        },
        "id": "Cs-Rev3AOntR",
        "outputId": "8a8a2a37-f603-4964-fb6c-7eb52329de13"
      },
      "outputs": [
        {
          "data": {
            "text/html": [
              "<div>\n",
              "<style scoped>\n",
              "    .dataframe tbody tr th:only-of-type {\n",
              "        vertical-align: middle;\n",
              "    }\n",
              "\n",
              "    .dataframe tbody tr th {\n",
              "        vertical-align: top;\n",
              "    }\n",
              "\n",
              "    .dataframe thead th {\n",
              "        text-align: right;\n",
              "    }\n",
              "</style>\n",
              "<table border=\"1\" class=\"dataframe\">\n",
              "  <thead>\n",
              "    <tr style=\"text-align: right;\">\n",
              "      <th></th>\n",
              "      <th>SeniorCitizen</th>\n",
              "      <th>tenure</th>\n",
              "      <th>MonthlyCharges</th>\n",
              "    </tr>\n",
              "  </thead>\n",
              "  <tbody>\n",
              "    <tr>\n",
              "      <th>count</th>\n",
              "      <td>7043.000000</td>\n",
              "      <td>7043.000000</td>\n",
              "      <td>7043.000000</td>\n",
              "    </tr>\n",
              "    <tr>\n",
              "      <th>mean</th>\n",
              "      <td>0.162147</td>\n",
              "      <td>32.371149</td>\n",
              "      <td>64.761692</td>\n",
              "    </tr>\n",
              "    <tr>\n",
              "      <th>std</th>\n",
              "      <td>0.368612</td>\n",
              "      <td>24.559481</td>\n",
              "      <td>30.090047</td>\n",
              "    </tr>\n",
              "    <tr>\n",
              "      <th>min</th>\n",
              "      <td>0.000000</td>\n",
              "      <td>0.000000</td>\n",
              "      <td>18.250000</td>\n",
              "    </tr>\n",
              "    <tr>\n",
              "      <th>25%</th>\n",
              "      <td>0.000000</td>\n",
              "      <td>9.000000</td>\n",
              "      <td>35.500000</td>\n",
              "    </tr>\n",
              "    <tr>\n",
              "      <th>50%</th>\n",
              "      <td>0.000000</td>\n",
              "      <td>29.000000</td>\n",
              "      <td>70.350000</td>\n",
              "    </tr>\n",
              "    <tr>\n",
              "      <th>75%</th>\n",
              "      <td>0.000000</td>\n",
              "      <td>55.000000</td>\n",
              "      <td>89.850000</td>\n",
              "    </tr>\n",
              "    <tr>\n",
              "      <th>max</th>\n",
              "      <td>1.000000</td>\n",
              "      <td>72.000000</td>\n",
              "      <td>118.750000</td>\n",
              "    </tr>\n",
              "  </tbody>\n",
              "</table>\n",
              "</div>"
            ],
            "text/plain": [
              "       SeniorCitizen       tenure  MonthlyCharges\n",
              "count    7043.000000  7043.000000     7043.000000\n",
              "mean        0.162147    32.371149       64.761692\n",
              "std         0.368612    24.559481       30.090047\n",
              "min         0.000000     0.000000       18.250000\n",
              "25%         0.000000     9.000000       35.500000\n",
              "50%         0.000000    29.000000       70.350000\n",
              "75%         0.000000    55.000000       89.850000\n",
              "max         1.000000    72.000000      118.750000"
            ]
          },
          "execution_count": 458,
          "metadata": {},
          "output_type": "execute_result"
        }
      ],
      "source": [
        "df.describe()\n",
        "# 금액과 같은 수치가 있는것만 통계적 요약정보를 줌. \n",
        "\n",
        "# 1. SeniorCitizen (시니어 여부, 0=아님, 1=예)\n",
        "# count: 7043명 고객 데이터\n",
        "# mean: 0.162 → 약 16.2%가 시니어(1), 나머지 83.8%는 비시니어(0)\n",
        "# std: 0.368 → 이진변수이므로 분산 작음\n",
        "# min~max: 0~1 (정상)\n",
        "# 👉 고객의 대부분은 비시니어.\n",
        "\n",
        "# 2. tenure (가입 개월 수)\n",
        "# 범위: 0 ~ 72개월\n",
        "# 중앙값: 29개월 → 절반 고객은 29개월 이하, 절반은 그 이상\n",
        "# 평균: 32개월 → 다양한 분포, 신규 고객도 있고 장기 고객도 있음\n",
        "\n",
        "# 3. MonthlyCharges (월 요금)\n",
        "# 범위: $18 ~ $119\n",
        "# 중앙값: $70 → 대부분 고객은 70달러 근처\n",
        "# 평균: $65 → 저가 요금제 고객도 많고 고가 요금제 고객도 일부 있음\n",
        "\n",
        "# 4. TotalCharges (총 요금)  --> 계약 월 수  x 월별 비용 \n",
        "# 범위: $0 ~ $8685\n",
        "# 중앙값: $1395\n",
        "# 평균: $2280\n",
        "# 분산이 매우 큼 (고객이 오래 다녔는지 여부에 따라 크게 차이남)\n",
        "\n",
        "# count 전체중에 %인지 보면됨. \n"
      ]
    },
    {
      "cell_type": "code",
      "execution_count": 459,
      "metadata": {},
      "outputs": [],
      "source": [
        "# 🔎 tenure 해석\n",
        "# mean = 32.37개월\n",
        "# → 평균적으로 고객들은 약 32개월(2년 8개월) 동안 서비스를 유지.\n",
        "# std = 24.56개월\n",
        "# → 표준편차가 25개월 정도라서, 대략적으로\n",
        "# 평균 ± 1표준편차 = (약 8개월 ~ 57개월)\n",
        "# 범위 안에 고객들의 약 68% 가 분포한다고 볼 수 있음.\n",
        "# 50% (median) = 29개월\n",
        "# → 가입자의 절반은 29개월 이하, 절반은 29개월 이상 유지.\n",
        "# 75% = 55개월\n",
        "# → 전체 고객 중 75%는 55개월 이하로 다녔고, 나머지 25%는 그 이상 다녔음.\n",
        "# max = 72개월\n",
        "# → 최장 고객은 6년 동안 유지.\n",
        "\n",
        "# 📌 예시 (tenure 기준)\n",
        "# 25% = 9개월\n",
        "# → 고객 중 25%는 가입 9개월 이하에서 이탈하거나 아직 유지 중\n",
        "# 50% = 29개월\n",
        "# → 고객의 절반은 29개월 이하, 절반은 29개월 이상\n",
        "# 75% = 55개월\n",
        "# → 고객의 75%는 55개월 이하, 상위 25% 충성 고객은 55개월 이상 유지 \n",
        "\n",
        "# ✅ 정리\n",
        "# 읽을 때는 말씀하신 것처럼:\n",
        "# 25% 값 = “하위 25% 그룹의 상한선”\n",
        "# 50% 값 = “전체를 절반으로 나누는 기준점”\n",
        "# 75% 값 = “상위 25% 그룹의 하한선”\n",
        "# 👉 그래서 “25% 미만의 사람들은…” / “50%는 절반의 고객들은…” / “75%는 상위 25% 고객은…” 이런 식으로 해석하면 맞습니다 ✔️"
      ]
    },
    {
      "cell_type": "markdown",
      "metadata": {},
      "source": [
        "<!-- ```📌 예시 (tenure 기준)\n",
        "25% = 9개월\n",
        "→ 고객 중 25%는 가입 9개월 이하에서 이탈하거나 아직 유지 중\n",
        "50% = 29개월\n",
        "→ 고객의 절반은 29개월 이하, 절반은 29개월 이상\n",
        "75% = 55개월\n",
        "→ 고객의 75%는 55개월 이하, 상위 25% 충성 고객은 55개월 이상 유지 \n",
        "\n",
        "\n",
        "✅ 정리\n",
        "읽을 때는 말씀하신 것처럼:\n",
        "25% 값 = “하위 25% 그룹의 상한선”\n",
        "50% 값 = “전체를 절반으로 나누는 기준점”\n",
        "75% 값 = “상위 25% 그룹의 하한선”\n",
        "👉 그래서 “25% 미만의 사람들은…” / “50%는 절반의 고객들은…” / “75%는 상위 25% 고객은…” 이런 식으로 해석하면 맞습니다 ✔️ -->\n",
        "\n"
      ]
    },
    {
      "cell_type": "markdown",
      "metadata": {
        "id": "vjPTz_FVPCdy"
      },
      "source": [
        "**Numerical Features - Analysis**"
      ]
    },
    {
      "cell_type": "markdown",
      "metadata": {
        "id": "el6Sna0vPH1y"
      },
      "source": [
        "Understand the distribution of teh numerical \n",
        "\n",
        "데이터셋 안의 숫자형 변수들이 어떻게 분포되어 있는지 이해"
      ]
    },
    {
      "cell_type": "code",
      "execution_count": 460,
      "metadata": {
        "id": "GiVVdSpxOrXp"
      },
      "outputs": [],
      "source": [
        "# def plot_histogram(df, column_name):\n",
        "\n",
        "#   plt.figure(figsize=(5, 3))\n",
        "#   sns.histplot(df[column_name], kde=True)\n",
        "#   plt.title(f\"Distribution of {column_name}\")\n",
        "\n",
        "#   # 선택한 컬럼의 평균과 중앙값 계산\n",
        "#   col_mean = df[column_name].mean()\n",
        "#   col_median = df[column_name].median()\n",
        "\n",
        "#   # add vertical lines for mean and median\n",
        "#   plt.axvline(col_mean, color=\"red\", linestyle=\"--\", label=\"Mean\")\n",
        "#   plt.axvline(col_median, color=\"green\", linestyle=\"-\", label=\"Median\")\n",
        "\n",
        "#   plt.legend()\n",
        "\n",
        "#   plt.show()"
      ]
    },
    {
      "cell_type": "code",
      "execution_count": 461,
      "metadata": {
        "colab": {
          "base_uri": "https://localhost:8080/",
          "height": 333
        },
        "id": "C-ii594gRLiv",
        "outputId": "9afce1ea-f2e1-43e7-9429-0a2570298b0c"
      },
      "outputs": [],
      "source": [
        "# plot_histogram(df, \"tenure\") # 가입 개월수 분포  "
      ]
    },
    {
      "cell_type": "code",
      "execution_count": 462,
      "metadata": {
        "colab": {
          "base_uri": "https://localhost:8080/",
          "height": 333
        },
        "id": "N7aTEuvKRPQ2",
        "outputId": "cfdc985f-0904-4a1b-bb03-9825407e45eb"
      },
      "outputs": [],
      "source": [
        "# plot_histogram(df, \"MonthlyCharges\")"
      ]
    },
    {
      "cell_type": "code",
      "execution_count": 463,
      "metadata": {
        "colab": {
          "base_uri": "https://localhost:8080/",
          "height": 333
        },
        "id": "VpgyhemIRXl1",
        "outputId": "1e6b03e9-a759-468a-8b14-0c8e891cf565"
      },
      "outputs": [],
      "source": [
        "# plot_histogram(df, \"TotalCharges\")"
      ]
    },
    {
      "cell_type": "markdown",
      "metadata": {
        "id": "dB-8XMyyR6oq"
      },
      "source": [
        "**Box plot for numerical features**"
      ]
    },
    {
      "cell_type": "code",
      "execution_count": 464,
      "metadata": {
        "id": "l_UN9to_ReoI"
      },
      "outputs": [],
      "source": [
        "# def plot_boxplot(df, column_name):\n",
        "\n",
        "#   plt.figure(figsize=(5, 3))\n",
        "#   sns.boxplot(y=df[column_name])\n",
        "#   plt.title(f\"Box Plot of {column_name}\")\n",
        "#   plt.ylabel(column_name)\n",
        "#   plt.show"
      ]
    },
    {
      "cell_type": "code",
      "execution_count": 465,
      "metadata": {
        "colab": {
          "base_uri": "https://localhost:8080/",
          "height": 295
        },
        "id": "BQm48zvRSMGj",
        "outputId": "acdee858-1a46-480f-eaab-4d799fadc89a"
      },
      "outputs": [],
      "source": [
        "# plot_boxplot(df, \"tenure\")"
      ]
    },
    {
      "cell_type": "code",
      "execution_count": 466,
      "metadata": {
        "colab": {
          "base_uri": "https://localhost:8080/",
          "height": 295
        },
        "id": "LMG8Jj6nSObQ",
        "outputId": "a655fc0c-f3c6-496b-f086-94c581799e4c"
      },
      "outputs": [],
      "source": [
        "# plot_boxplot(df, \"MonthlyCharges\")"
      ]
    },
    {
      "cell_type": "code",
      "execution_count": 467,
      "metadata": {
        "colab": {
          "base_uri": "https://localhost:8080/",
          "height": 295
        },
        "id": "DYijKgb-SOKA",
        "outputId": "9bb4e250-82c2-4b61-cee3-31e3b2295d6f"
      },
      "outputs": [],
      "source": [
        "# plot_boxplot(df, \"TotalCharges\")"
      ]
    },
    {
      "cell_type": "markdown",
      "metadata": {
        "id": "w26inWhjStai"
      },
      "source": [
        "**Correlation Heatmap for numerical columns**"
      ]
    },
    {
      "cell_type": "code",
      "execution_count": 468,
      "metadata": {
        "colab": {
          "base_uri": "https://localhost:8080/",
          "height": 391
        },
        "id": "ZB_oc-xySmu8",
        "outputId": "6eca9cb3-1c4f-46d8-d431-db2e3f460552"
      },
      "outputs": [],
      "source": [
        "# # correlation matrix - heatmap\n",
        "# plt.figure(figsize=(8, 4))\n",
        "# sns.heatmap(df[[\"tenure\", \"MonthlyCharges\", \"TotalCharges\"]].corr(), annot=True, cmap=\"coolwarm\", fmt=\".2f\")\n",
        "# plt.title(\"Correlation Heatmap\")\n",
        "# plt.show()"
      ]
    },
    {
      "cell_type": "markdown",
      "metadata": {},
      "source": [
        "<!-- 📊 해석\n",
        "tenure ↔ TotalCharges : 0.83 (강한 양의 상관관계)\n",
        "가입 기간(tenure)이 길수록 총 요금(TotalCharges)도 높다.\n",
        "당연히 tenure × MonthlyCharges ≈ TotalCharges 구조이기 때문에 높은 상관성이 있음.\n",
        "\n",
        "MonthlyCharges ↔ TotalCharges : 0.65 (중간 정도 양의 상관관계)\n",
        "월 요금이 높으면 총 요금도 대체로 높다.\n",
        "하지만 tenure가 짧으면 총 요금이 낮을 수도 있으므로 완벽한 상관관계는 아님.\n",
        "\n",
        "tenure ↔ MonthlyCharges : 0.25 (약한 양의 상관관계)\n",
        "가입 기간과 월 요금은 거의 관련이 없음.\n",
        "오래된 고객이라고 해서 반드시 요금을 많이 내는 건 아니다. (요금제와 무관) -->"
      ]
    },
    {
      "cell_type": "markdown",
      "metadata": {
        "id": "AWG9vYIJTw7c"
      },
      "source": [
        "Categorical features - Analysis"
      ]
    },
    {
      "cell_type": "code",
      "execution_count": 469,
      "metadata": {
        "colab": {
          "base_uri": "https://localhost:8080/"
        },
        "id": "dZvQi2hhTNGZ",
        "outputId": "7210e632-f65f-44c6-90f3-97a7fa589086"
      },
      "outputs": [
        {
          "data": {
            "text/plain": [
              "Index(['customerID', 'gender', 'SeniorCitizen', 'Partner', 'Dependents',\n",
              "       'tenure', 'PhoneService', 'MultipleLines', 'InternetService',\n",
              "       'OnlineSecurity', 'OnlineBackup', 'DeviceProtection', 'TechSupport',\n",
              "       'StreamingTV', 'StreamingMovies', 'Contract', 'PaperlessBilling',\n",
              "       'PaymentMethod', 'MonthlyCharges', 'TotalCharges', 'Churn'],\n",
              "      dtype='object')"
            ]
          },
          "execution_count": 469,
          "metadata": {},
          "output_type": "execute_result"
        }
      ],
      "source": [
        "df.columns"
      ]
    },
    {
      "cell_type": "code",
      "execution_count": 470,
      "metadata": {
        "colab": {
          "base_uri": "https://localhost:8080/"
        },
        "id": "x1371ShPXGYN",
        "outputId": "a5bff743-8ea2-4102-ae93-3f585e873ee9"
      },
      "outputs": [
        {
          "name": "stdout",
          "output_type": "stream",
          "text": [
            "<class 'pandas.core.frame.DataFrame'>\n",
            "RangeIndex: 7043 entries, 0 to 7042\n",
            "Data columns (total 21 columns):\n",
            " #   Column            Non-Null Count  Dtype  \n",
            "---  ------            --------------  -----  \n",
            " 0   customerID        7043 non-null   object \n",
            " 1   gender            7043 non-null   object \n",
            " 2   SeniorCitizen     7043 non-null   int64  \n",
            " 3   Partner           7043 non-null   object \n",
            " 4   Dependents        7043 non-null   object \n",
            " 5   tenure            7043 non-null   int64  \n",
            " 6   PhoneService      7043 non-null   object \n",
            " 7   MultipleLines     7043 non-null   object \n",
            " 8   InternetService   7043 non-null   object \n",
            " 9   OnlineSecurity    7043 non-null   object \n",
            " 10  OnlineBackup      7043 non-null   object \n",
            " 11  DeviceProtection  7043 non-null   object \n",
            " 12  TechSupport       7043 non-null   object \n",
            " 13  StreamingTV       7043 non-null   object \n",
            " 14  StreamingMovies   7043 non-null   object \n",
            " 15  Contract          7043 non-null   object \n",
            " 16  PaperlessBilling  7043 non-null   object \n",
            " 17  PaymentMethod     7043 non-null   object \n",
            " 18  MonthlyCharges    7043 non-null   float64\n",
            " 19  TotalCharges      7043 non-null   object \n",
            " 20  Churn             7043 non-null   object \n",
            "dtypes: float64(1), int64(2), object(18)\n",
            "memory usage: 1.1+ MB\n"
          ]
        }
      ],
      "source": [
        "df.info()"
      ]
    },
    {
      "cell_type": "markdown",
      "metadata": {
        "id": "bn5hJMRWXkyv"
      },
      "source": [
        "Countplot for categorical columns"
      ]
    },
    {
      "cell_type": "code",
      "execution_count": 471,
      "metadata": {
        "colab": {
          "base_uri": "https://localhost:8080/",
          "height": 1000
        },
        "collapsed": true,
        "id": "W_JwQNlVXJmR",
        "outputId": "f8007621-f810-43d5-b6de-f56149ba226c"
      },
      "outputs": [],
      "source": [
        "# object_cols = df.select_dtypes(include=\"object\").columns.to_list()\n",
        "\n",
        "# object_cols = [\"SeniorCitizen\"] + object_cols\n",
        "\n",
        "# for col in object_cols:\n",
        "#   plt.figure(figsize=(5, 3))\n",
        "#   sns.countplot(x=df[col])\n",
        "#   plt.title(f\"Count Plot of {col}\")\n",
        "#   plt.show()"
      ]
    },
    {
      "cell_type": "code",
      "execution_count": 472,
      "metadata": {},
      "outputs": [
        {
          "name": "stdout",
          "output_type": "stream",
          "text": [
            "✅ 모델 학습 완료\n",
            "Accuracy: 0.7679205110007097\n",
            "Confusion Matrix:\n",
            " [[821 214]\n",
            " [113 261]]\n",
            "Classification Report:\n",
            "               precision    recall  f1-score   support\n",
            "\n",
            "           0       0.88      0.79      0.83      1035\n",
            "           1       0.55      0.70      0.61       374\n",
            "\n",
            "    accuracy                           0.77      1409\n",
            "   macro avg       0.71      0.75      0.72      1409\n",
            "weighted avg       0.79      0.77      0.78      1409\n",
            "\n",
            "ROC-AUC: 0.8396548606267276\n",
            "✅ 파이프라인 저장 완료\n"
          ]
        }
      ],
      "source": [
        "from collections import Counter\n",
        "from imblearn.over_sampling import SMOTE\n",
        "\n",
        "\n",
        "# ---------------------------\n",
        "# 1. Custom Transformer: Risk Feature Generator /즉, “이 변환기가 기억해야 하는 기준값을 담을 주머니”를 준비하는 단계예요.\n",
        "# 나중에 transform() 단계에서 새로운 데이터(Test set, 실시간 고객 데이터 등)를 변환할 때,\n",
        "# 이 기준값을 그대로 써야 데이터 누설(leakage)을 막을 수 있음\n",
        "# ---------------------------\n",
        "class RiskFeatureGenerator(BaseEstimator, TransformerMixin):\n",
        "    def __init__(self, stats=None): #__init__: 통계값 저장 공간 준비 #파이프라인 안에서 객체를 만들 때 실행되는 “생성자(constructor)”/ 처음에는 None이지만, fit() 단계에서 채워집니다.\n",
        "        self.stats = stats # stats 라는 속성을 클래스 내부에 저장합니다.stats는 나중에 기준값(중위수, 사분위수) 을 담을 공간이에요.\n",
        "    \n",
        "    def fit(self, X, y=None): #fit 단계 = 훈련 데이터에서 기준값을 학습하는 단계\n",
        "        # train에서 기준값 저장\n",
        "        # 여기서 하는 일:\n",
        "        # MonthlyCharges의 중위수(median) 계산(median_monthly: 고객을 “월 요금 기준 High/Low Value”로 나눌 기준)\n",
        "        # TotalCharges의 중위수(median) 계산(median_monthly: 고객을 “월 요금 기준 High/Low Value”로 나눌 기준)\n",
        "        # tenure(가입 기간)의 25% 분위(Q1) 계산(짧을수록 이탈높음)\n",
        "        # 이렇게 계산된 값을 self.stats 딕셔너리에 저장해 둡니다.\n",
        "        # 즉, 훈련셋에서 “이탈 위험을 가르는 기준선”을 뽑아 두는 작업이에요.\n",
        "        # 예: median_monthly = 65 / median_total = 1400 / q25_tenure = 12         \n",
        "        self.stats = {\n",
        "            \"median_monthly\": X[\"MonthlyCharges\"].median(),\n",
        "            \"median_total\": X[\"TotalCharges\"].median(),\n",
        "            \"q25_tenure\": X[\"tenure\"].quantile(0.25)\n",
        "        }\n",
        "        return self\n",
        "    \n",
        "\n",
        "# 📌 기본 개념 아래 \n",
        "# transform() 은 입력된 데이터셋(X)을 받아서 새로운 컬럼(파생변수) 을 추가하거나, 기존 값을 변환하는 역할을 합니다.\n",
        "# 그런데 파이프라인 안에서 들어오는 X는 원본 참조(Reference) 일 수 있습니다.\n",
        "# → 그대로 수정하면 원본 데이터 자체가 바뀌어버릴 수 있어요.\n",
        "    def transform(self, X):\n",
        "        X = X.copy() # 원본 데이터 X를 복사해서 사용 (원본 손상 방지).\n",
        "        X['HighValue'] = ((X['MonthlyCharges'] > self.stats[\"median_monthly\"]) | (X['TotalCharges'] > self.stats[\"median_total\"])).astype(int) #월 요금이 중위수보다 크거나 총 요금이 중위수보다 크면 HighValue=1 (고가치 고객) 아니면 0\n",
        "        X['Risk_Contract']  = (X['Contract'] == 'Month-to-Month').astype(int) # 계약 유형이 단기(월별) → 위험 고객 → 1\n",
        "        X['Risk_Tenure']    = (X['tenure'] < self.stats[\"q25_tenure\"]).astype(int) # 가입기간이 하위 25% (예: 12개월 미만) → 위험 고객 → 1\n",
        "        X['Risk_Paperless'] = (X['PaperlessBilling'] == 'Yes').astype(int) # 종이 고지서 없이 전자 청구만 하는 고객 → 상대적으로 이탈이 쉬움 → 위험 고객 → 1 \n",
        "        X['Risk_Fiber']     = (X['InternetService'] == 'Fiber optic').astype(int) # Fiber optic (경쟁사로 옮기기 쉽고 churn율 높은 서비스) → 위험 고객 → 1\n",
        "        X['Risk_Echeck']    = (X['PaymentMethod'] == 'Electronic check').astype(int) # 전자결제(체크카드) 방식 → churn율 높은 결제수단 → 위험 고객 → 1\n",
        "        \n",
        "        risk_cols = ['Risk_Contract','Risk_Tenure','Risk_Paperless','Risk_Fiber','Risk_Echeck']\n",
        "        X['RiskScore'] = X[risk_cols].sum(axis=1)\n",
        "        X['HighRisk']  = (X['RiskScore'] >= 2).astype(int) \n",
        "        # RiskScore ≥ 2 (위험 요인 2개 이상) → HighRisk=1\n",
        "        # RiskScore < 2 → HighRisk=0\n",
        "        return X #파생변수까지 포함된 DataFrame 반환\n",
        "    #위 5개 리스크 변수 합산해서 총 Risk 점수 계산 (0~5 사이 값).\n",
        "    #예: Risk_Contract=1, Risk_Tenure=1, Risk_Paperless=0, Risk_Fiber=1, Risk_Echeck=0 → RiskScore=3\n",
        "\n",
        "\n",
        "\n",
        "# ---------------------------\n",
        "# 2. 데이터 준비\n",
        "# ---------------------------\n",
        "# 삭제하기 df[\"TotalCharges\"] = pd.to_numeric(df[\"TotalCharges\"], errors=\"coerce\")\n",
        "# 삭제하기  df = df.dropna()\n",
        "\n",
        "# \" \" 공백을 0.0 으로 치환 후 float 변환\n",
        "df[\"TotalCharges\"] = df[\"TotalCharges\"].replace(\" \", \"0.0\")\n",
        "df[\"TotalCharges\"] = df[\"TotalCharges\"].astype(float)\n",
        "\n",
        "\n",
        "X = df.drop(columns=[\"Churn\", \"customerID\"])\n",
        "y = df[\"Churn\"].map({\"No\":0, \"Yes\":1})\n",
        "\n",
        "# ---------------------------\n",
        "# 3. 범주형/수치형 정의\n",
        "# ---------------------------\n",
        "categorical_cols = X.select_dtypes(include=\"object\").columns.tolist()\n",
        "numeric_cols = X.select_dtypes(include=[\"int64\",\"float64\"]).columns.tolist()\n",
        "\n",
        "# ---------------------------\n",
        "# 4. 전처리 파이프라인\n",
        "# ---------------------------\n",
        "preprocessor = ColumnTransformer(\n",
        "    transformers=[\n",
        "        (\"cat\", OneHotEncoder(handle_unknown=\"ignore\"), categorical_cols),\n",
        "        (\"num\", \"passthrough\", numeric_cols) #passthrough : 아무 변화 없이 그대로 통과시킴\n",
        "    ]\n",
        ")\n",
        "\n",
        "# ---------------------------\n",
        "# 5. 모델 정의 (Voting 앙상블)\n",
        "# ---------------------------\n",
        "rfc = RandomForestClassifier(\n",
        "    random_state=42,\n",
        "    class_weight=\"balanced\",\n",
        "    n_estimators=200,\n",
        "    max_depth=20,\n",
        "    min_samples_split=2,\n",
        "    min_samples_leaf=2\n",
        ")\n",
        "\n",
        "xgb = XGBClassifier(\n",
        "    random_state=42,\n",
        "    scale_pos_weight=3,\n",
        "    eval_metric=\"logloss\"\n",
        ")\n",
        "\n",
        "lr = LogisticRegression(max_iter=1000, solver=\"liblinear\", class_weight=\"balanced\")\n",
        "\n",
        "\n",
        "voting_clf = VotingClassifier(\n",
        "    estimators=[(\"rf\", rfc), (\"xgb\", xgb), (\"lr\", lr)],\n",
        "    voting=\"soft\"\n",
        ")\n",
        "\n",
        "# ---------------------------\n",
        "# 6. 전체 파이프라인 (SMOTE 포함)\n",
        "# ---------------------------\n",
        "pipeline = ImbPipeline(steps=[\n",
        "    (\"risk\", RiskFeatureGenerator()),  # 파생변수 생성\n",
        "    (\"preprocess\", preprocessor),      # 인코딩\n",
        "    (\"smote\", SMOTE(random_state=42)), # 이 단계가 바로 Churn 데이터(= 소수 클래스, y=1)를 오버샘플링 하는 부분/ 불균형 처리/오버샘플링 (학습 데이터에서만 적용) SMOTE는 학습용 데이터(fit)에만 적용돼요.\n",
        "    (\"model\", voting_clf)              # 모델 /최종 학습 \n",
        "])\n",
        "\n",
        "\n",
        "\n",
        "# ---------------------------\n",
        "# 7. Train/Test Split & 학습\n",
        "# ---------------------------\n",
        "X_train, X_test, y_train, y_test = train_test_split(X, y, test_size=0.2, stratify=y, random_state=42)\n",
        "\n",
        "pipeline.fit(X_train, y_train)\n",
        "\n",
        "print(\"✅ 모델 학습 완료\")\n",
        "\n",
        "\n",
        "\n",
        "\n",
        "# SMOTE 불균형 전/후 확인\n",
        "# from collections import Counter\n",
        "\n",
        "# # Risk + Preprocess까지 거쳐서 수치형으로 변환\n",
        "# X_train_processed = pipeline.named_steps[\"preprocess\"].fit_transform(\n",
        "#     pipeline.named_steps[\"risk\"].fit_transform(X_train)\n",
        "# )\n",
        "\n",
        "# smote = pipeline.named_steps[\"smote\"]\n",
        "\n",
        "# print(\"SMOTE 전 y_train 분포:\", Counter(y_train))\n",
        "# X_res, y_res = smote.fit_resample(X_train_processed, y_train)\n",
        "# print(\"SMOTE 후 y_train 분포:\", Counter(y_res))\n",
        "\n",
        "# # ---------------------------\n",
        "# # 파이프라인 학습\n",
        "# # ---------------------------\n",
        "# pipeline.fit(X_train, y_train)\n",
        "# print(\"✅ 모델 학습 완료\")\n",
        "\n",
        "\n",
        "\n",
        "\n",
        "\n",
        "# 1. 테스트셋 예측\n",
        "y_pred = pipeline.predict(X_test)\n",
        "y_prob = pipeline.predict_proba(X_test)[:, 1]\n",
        "\n",
        "# 2. 평가 지표 출력\n",
        "print(\"Accuracy:\", accuracy_score(y_test, y_pred))\n",
        "print(\"Confusion Matrix:\\n\", confusion_matrix(y_test, y_pred))\n",
        "print(\"Classification Report:\\n\", classification_report(y_test, y_pred))\n",
        "print(\"ROC-AUC:\", roc_auc_score(y_test, y_prob))\n",
        "\n",
        "\n",
        "\n",
        "# 8. 저장\n",
        "# ---------------------------\n",
        "with open(\"customer_churn_pipeline.pkl\", \"wb\") as f:\n",
        "    pickle.dump(pipeline, f)\n",
        "print(\"✅ 파이프라인 저장 완료\")\n"
      ]
    },
    {
      "cell_type": "code",
      "execution_count": 473,
      "metadata": {},
      "outputs": [],
      "source": [
        "# ✅ 정리\n",
        "# RiskScore 같은 파생변수는 train/test 모두 똑같이 생성됨\n",
        "# SMOTE는 train에서만 적용\n",
        "# 전처리 이후 모델에 들어갈 때는 numpy array 로 변환돼 컬럼명이 없어지므로, 확인하려면 risk 단계나 preprocess.get_feature_names_out() 을 써야 함\n",
        "# ✅ 보이지도 않는 Risk Score는 왜 파생변수로 만들었나?\n",
        "# RiskScore는 단순히 보려고 만든 게 아니라, 도메인 지식을 반영해서 모델 성능과 해석력을 동시에 높이려는 것.\n",
        "# Train/Test 둘 다 이 feature를 사용해서 학습/예측에 활용합니다.\n",
        "# 모델이 스스로 찾아내기 어려운 조합을 사람이 설계해서 준 거라, 실제로 성능이 오를 수도 있습니다."
      ]
    },
    {
      "cell_type": "code",
      "execution_count": 474,
      "metadata": {},
      "outputs": [
        {
          "name": "stdout",
          "output_type": "stream",
          "text": [
            "랜덤포레스트 중요도 TOP 10:\n",
            " cat__Contract_Month-to-month           0.096783\n",
            "num__TotalCharges                      0.077598\n",
            "cat__PaymentMethod_Electronic check    0.076403\n",
            "num__tenure                            0.073950\n",
            "cat__OnlineSecurity_No                 0.070129\n",
            "cat__TechSupport_No                    0.060539\n",
            "num__MonthlyCharges                    0.054365\n",
            "cat__OnlineBackup_No                   0.047533\n",
            "cat__Contract_Two year                 0.035573\n",
            "cat__OnlineSecurity_Yes                0.026975\n",
            "dtype: float64\n",
            "XGB 중요도 TOP 10:\n",
            " cat__Contract_Month-to-month           0.335989\n",
            "cat__InternetService_Fiber optic       0.093490\n",
            "cat__OnlineSecurity_No                 0.057765\n",
            "cat__Partner_Yes                       0.039982\n",
            "cat__PaymentMethod_Electronic check    0.036914\n",
            "cat__TechSupport_No                    0.035620\n",
            "cat__Contract_Two year                 0.029951\n",
            "cat__Dependents_Yes                    0.023153\n",
            "cat__OnlineSecurity_Yes                0.021894\n",
            "cat__InternetService_DSL               0.021775\n",
            "dtype: float32\n",
            "로지스틱 중요도 TOP 10:\n",
            " cat__Contract_Two year                 0.711417\n",
            "cat__Contract_Month-to-month           0.700184\n",
            "cat__InternetService_DSL               0.319894\n",
            "cat__InternetService_Fiber optic       0.315774\n",
            "cat__PaymentMethod_Electronic check    0.312937\n",
            "cat__PaperlessBilling_No               0.242594\n",
            "cat__TechSupport_Yes                   0.241308\n",
            "cat__TechSupport_No                    0.237188\n",
            "cat__OnlineSecurity_Yes                0.236390\n",
            "cat__OnlineSecurity_No                 0.232270\n",
            "dtype: float64\n"
          ]
        }
      ],
      "source": [
        "# 1. Risk 단계 이후 피처 이름 확보\n",
        "X_train_risk = pipeline.named_steps[\"risk\"].transform(X_train)\n",
        "pipeline.named_steps[\"preprocess\"].fit(X_train_risk)\n",
        "feature_names = pipeline.named_steps[\"preprocess\"].get_feature_names_out()\n",
        "\n",
        "# 2. 개별 모델 꺼내기\n",
        "rf_model  = pipeline.named_steps[\"model\"].estimators_[0]  # RandomForest\n",
        "xgb_model = pipeline.named_steps[\"model\"].estimators_[1]  # XGB\n",
        "lr_model  = pipeline.named_steps[\"model\"].estimators_[2]  # LogisticRegression\n",
        "\n",
        "# 3. 중요도 뽑기\n",
        "import pandas as pd\n",
        "\n",
        "rf_importance = pd.Series(rf_model.feature_importances_, index=feature_names)\n",
        "xgb_importance = pd.Series(xgb_model.feature_importances_, index=feature_names)\n",
        "lr_importance  = pd.Series(abs(lr_model.coef_[0]), index=feature_names)  # 절댓값으로 중요도 해석\n",
        "\n",
        "print(\"랜덤포레스트 중요도 TOP 10:\\n\", rf_importance.sort_values(ascending=False).head(10))\n",
        "print(\"XGB 중요도 TOP 10:\\n\", xgb_importance.sort_values(ascending=False).head(10))\n",
        "print(\"로지스틱 중요도 TOP 10:\\n\", lr_importance.sort_values(ascending=False).head(10))\n",
        "\n",
        "\n",
        "# ✅ 결론:\n",
        "# 세 모델 모두 공통적으로 “단기 계약 + 특정 결제방식 + 보안/기술지원 여부”가 이탈의 핵심 요인임을 보여줌.\n",
        "# RiskScore는 TOP에 안 떴지만, 설명가능성(Explainability)을 강화해주는 feature로 충분히 가치 있음"
      ]
    },
    {
      "cell_type": "code",
      "execution_count": null,
      "metadata": {},
      "outputs": [],
      "source": []
    },
    {
      "cell_type": "code",
      "execution_count": null,
      "metadata": {},
      "outputs": [],
      "source": []
    },
    {
      "cell_type": "markdown",
      "metadata": {
        "id": "vWVcq79lhHH4"
      },
      "source": [
        "**7. Load the saved  model and  build a Predictive System**"
      ]
    },
    {
      "cell_type": "code",
      "execution_count": 475,
      "metadata": {
        "id": "EHJUOCxAg_-W"
      },
      "outputs": [],
      "source": [
        "model_data = {\n",
        "    \"model\": pipeline,               \n",
        "    \"features_names\": X_train.columns.tolist()  \n",
        "}\n",
        "# model_data 라는 딕셔너리(dict) 를 만듭니다.\n",
        "# \"model\" 키: 방금 학습된 파이프라인(pipeline) 자체를 저장 → 안에 RiskFeatureGenerator, OneHotEncoder, SMOTE, VotingClassifier 전부 포함됨\n",
        "# \"features_names\" 키: 학습 당시 사용한 입력 변수 이름(X_train.columns.tolist())을 저장 → 나중에 예측할 때 컬럼 순서/이름이 맞는지 확인용\n",
        "# 위는 묶는 작업 \n",
        "\n",
        "import pickle\n",
        "with open(\"model_data.pkl\", \"wb\") as f:\n",
        "    pickle.dump(model_data, f)\n",
        "# pickle : Python 객체(모델, 딕셔너리, 리스트 등)를 파일로 저장하고 다시 불러올 수 있게 해주는 라이브러리\n",
        "# \"model_data.pkl\" 이라는 파일을 쓰기 모드(\"wb\") 로 열고 → model_data 딕셔너리를 저장\n",
        "# → pickle 파일(model_data.pkl)로 저장\n",
        "# 즉 두 코드는 “학습된 모델 + 메타데이터(피처 이름)” 를 패키징해서 저장하는 단계입니다."
      ]
    },
    {
      "cell_type": "code",
      "execution_count": 476,
      "metadata": {
        "colab": {
          "base_uri": "https://localhost:8080/"
        },
        "id": "UkaI2oE3huq5",
        "outputId": "343386c6-aad8-4eac-a40d-9a38ef54023d"
      },
      "outputs": [
        {
          "name": "stdout",
          "output_type": "stream",
          "text": [
            "{'model': Pipeline(steps=[('risk',\n",
            "                 RiskFeatureGenerator(stats={'median_monthly': np.float64(70.5),\n",
            "                                             'median_total': np.float64(1394.925),\n",
            "                                             'q25_tenure': np.float64(9.0)})),\n",
            "                ('preprocess',\n",
            "                 ColumnTransformer(transformers=[('cat',\n",
            "                                                  OneHotEncoder(handle_unknown='ignore'),\n",
            "                                                  ['gender', 'Partner',\n",
            "                                                   'Dependents', 'PhoneService',\n",
            "                                                   'MultipleLines',\n",
            "                                                   'InternetService',\n",
            "                                                   'OnlineSecurity',\n",
            "                                                   'Onli...\n",
            "                                                             max_bin=None,\n",
            "                                                             max_cat_threshold=None,\n",
            "                                                             max_cat_to_onehot=None,\n",
            "                                                             max_delta_step=None,\n",
            "                                                             max_depth=None,\n",
            "                                                             max_leaves=None,\n",
            "                                                             min_child_weight=None,\n",
            "                                                             missing=nan,\n",
            "                                                             monotone_constraints=None,\n",
            "                                                             multi_strategy=None,\n",
            "                                                             n_estimators=None,\n",
            "                                                             n_jobs=None,\n",
            "                                                             num_parallel_tree=None, ...)),\n",
            "                                              ('lr',\n",
            "                                               LogisticRegression(class_weight='balanced',\n",
            "                                                                  max_iter=1000,\n",
            "                                                                  solver='liblinear'))],\n",
            "                                  voting='soft'))]), 'features_names': ['gender', 'SeniorCitizen', 'Partner', 'Dependents', 'tenure', 'PhoneService', 'MultipleLines', 'InternetService', 'OnlineSecurity', 'OnlineBackup', 'DeviceProtection', 'TechSupport', 'StreamingTV', 'StreamingMovies', 'Contract', 'PaperlessBilling', 'PaymentMethod', 'MonthlyCharges', 'TotalCharges']}\n"
          ]
        }
      ],
      "source": [
        "print(model_data)"
      ]
    },
    {
      "cell_type": "code",
      "execution_count": 477,
      "metadata": {
        "colab": {
          "base_uri": "https://localhost:8080/"
        },
        "id": "a758RlNVh7Xe",
        "outputId": "1456a90a-2599-49ec-e894-7627d3f0f919"
      },
      "outputs": [
        {
          "name": "stdout",
          "output_type": "stream",
          "text": [
            "✅ 모델과 feature_names 로드 완료\n",
            "Feature 개수: 19\n"
          ]
        }
      ],
      "source": [
        "import pickle\n",
        "\n",
        "with open(\"model_data.pkl\", \"rb\") as f:\n",
        "    model_data = pickle.load(f)\n",
        "\n",
        "loaded_model = model_data[\"model\"]\n",
        "feature_names = model_data[\"features_names\"]\n",
        "\n",
        "print(\"✅ 모델과 feature_names 로드 완료\")\n",
        "print(\"Feature 개수:\", len(feature_names))\n",
        "\n",
        "# pickle.load(f) : 저장했던 객체를 다시 메모리로 불러옴\n",
        "# \"rb\" : read binary → 바이너리 읽기 모드\n",
        "# 결과적으로 model_data.pkl 안에 저장돼 있던 딕셔너리({\"model\": ..., \"features_names\": ...}) 가 복원됨\n",
        "# loaded_model : 학습된 파이프라인 모델 객체 (RiskFeatureGenerator → Preprocess → SMOTE → VotingClassifier 구조 그대로 들어 있음)\n",
        "# feature_names : 학습 당시 입력에 쓰였던 피처 이름 리스트\n"
      ]
    },
    {
      "cell_type": "code",
      "execution_count": 478,
      "metadata": {
        "colab": {
          "base_uri": "https://localhost:8080/"
        },
        "id": "pVYWRbYwjS3y",
        "outputId": "e4c606d9-4b6e-4dc9-e467-2e61314ef874"
      },
      "outputs": [
        {
          "data": {
            "text/plain": [
              "['gender',\n",
              " 'SeniorCitizen',\n",
              " 'Partner',\n",
              " 'Dependents',\n",
              " 'tenure',\n",
              " 'PhoneService',\n",
              " 'MultipleLines',\n",
              " 'InternetService',\n",
              " 'OnlineSecurity',\n",
              " 'OnlineBackup',\n",
              " 'DeviceProtection',\n",
              " 'TechSupport',\n",
              " 'StreamingTV',\n",
              " 'StreamingMovies',\n",
              " 'Contract',\n",
              " 'PaperlessBilling',\n",
              " 'PaymentMethod',\n",
              " 'MonthlyCharges',\n",
              " 'TotalCharges']"
            ]
          },
          "execution_count": 478,
          "metadata": {},
          "output_type": "execute_result"
        }
      ],
      "source": [
        "feature_names"
      ]
    },
    {
      "cell_type": "markdown",
      "metadata": {
        "id": "wvQG7N02lKFV"
      },
      "source": []
    },
    {
      "cell_type": "code",
      "execution_count": 479,
      "metadata": {
        "id": "KISMEReNjeC4"
      },
      "outputs": [
        {
          "name": "stdout",
          "output_type": "stream",
          "text": [
            "예측 결과: Churn (이탈)\n",
            "예측 확률: [[0.44869323 0.55130677]]\n"
          ]
        }
      ],
      "source": [
        "# 하드코딩 _ 신규 고객 예시 데이터\n",
        "input_data = {\n",
        "    \"gender\": \"Female\",\n",
        "    \"SeniorCitizen\": 0,\n",
        "    \"Partner\": \"Yes\",\n",
        "    \"Dependents\": \"No\",\n",
        "    \"tenure\": 1,\n",
        "    \"PhoneService\": \"No\",\n",
        "    \"MultipleLines\": \"No phone service\",\n",
        "    \"InternetService\": \"DSL\",\n",
        "    \"OnlineSecurity\": \"No\",\n",
        "    \"OnlineBackup\": \"Yes\",\n",
        "    \"DeviceProtection\": \"No\",\n",
        "    \"TechSupport\": \"No\",\n",
        "    \"StreamingTV\": \"No\",\n",
        "    \"StreamingMovies\": \"No\",\n",
        "    \"Contract\": \"Month-to-month\",\n",
        "    \"PaperlessBilling\": \"Yes\",\n",
        "    \"PaymentMethod\": \"Electronic check\",\n",
        "    \"MonthlyCharges\": 29.85,\n",
        "    \"TotalCharges\": 29.85\n",
        "}\n",
        "\n",
        "# DataFrame 변환\n",
        "input_df = pd.DataFrame([input_data])\n",
        "\n",
        "# 로드한 모델 사용\n",
        "prediction = loaded_model.predict(input_df)\n",
        "prediction_prob = loaded_model.predict_proba(input_df)\n",
        "\n",
        "print(\"예측 결과:\", \"Churn (이탈)\" if prediction[0] == 1 else \"No Churn (유지)\")\n",
        "print(\"예측 확률:\", prediction_prob) # predict_proba() : 확률 값 ([No Churn 확률, Churn 확률]) 예) [0.2, 0.8] → 이 고객은 80% 확률로 이탈할 것이라고 예측\n"
      ]
    },
    {
      "cell_type": "code",
      "execution_count": 480,
      "metadata": {},
      "outputs": [
        {
          "name": "stdout",
          "output_type": "stream",
          "text": [
            "예측 확률: [[0.3300121 0.6699879]]\n",
            "예측 결과: Churn\n",
            "최종 세그먼트: High Value + High Risk\n"
          ]
        }
      ],
      "source": [
        "# 1. 새로운 고객 예시 (dict → DataFrame)\n",
        "new_customer = pd.DataFrame([{\n",
        "    \"gender\": \"Male\",\n",
        "    \"SeniorCitizen\": 0,\n",
        "    \"Partner\": \"Yes\",\n",
        "    \"Dependents\": \"No\",\n",
        "    \"tenure\": 2,\n",
        "    \"PhoneService\": \"Yes\",\n",
        "    \"MultipleLines\": \"No\",\n",
        "    \"InternetService\": \"Fiber optic\",\n",
        "    \"OnlineSecurity\": \"No\",\n",
        "    \"OnlineBackup\": \"No\",\n",
        "    \"DeviceProtection\": \"No\",\n",
        "    \"TechSupport\": \"No\",\n",
        "    \"StreamingTV\": \"Yes\",\n",
        "    \"StreamingMovies\": \"Yes\",\n",
        "    \"Contract\": \"Month-to-Month\",\n",
        "    \"PaperlessBilling\": \"Yes\",\n",
        "    \"PaymentMethod\": \"Electronic check\",\n",
        "    \"MonthlyCharges\": 85.0,\n",
        "    \"TotalCharges\": 170.0\n",
        "}])\n",
        "\n",
        "# 2. 이탈 확률 예측\n",
        "y_prob = pipeline.predict_proba(new_customer)\n",
        "print(\"예측 확률:\", y_prob)   # 예: [[0.4486 0.5513]]\n",
        "churn_pred = pipeline.predict(new_customer)[0]\n",
        "print(\"예측 결과:\", \"Churn\" if churn_pred==1 else \"No Churn\")\n",
        "\n",
        "# 3. Risk 단계까지만 변환해서 파생변수 확인\n",
        "X_risk = pipeline.named_steps[\"risk\"].transform(new_customer)\n",
        "# pipeline = ImbPipeline(steps=[에서 사용됨. \n",
        "#     (\"risk\", RiskFeatureGenerator()),   # ✅ 여기에 risk라는 이름으로 추가\n",
        "#     (\"preprocess\", preprocessor),\n",
        "#     (\"smote\", SMOTE(random_state=42)),\n",
        "#     (\"model\", voting_clf)\n",
        "# ])\n",
        "\n",
        "# 4. Value 그룹 정의 (Median 기준 or 특정 Threshold)\n",
        "median_monthly = X[\"MonthlyCharges\"].median()\n",
        "median_total   = X[\"TotalCharges\"].median()\n",
        "\n",
        "X_risk[\"ValueGroup\"] = np.where(\n",
        "    (X_risk[\"MonthlyCharges\"] > median_monthly) | (X_risk[\"TotalCharges\"] > median_total),\n",
        "    \"High Value\", \"Low Value\"\n",
        ")\n",
        "\n",
        "# 5. Risk 그룹 정의 (RiskScore 활용)\n",
        "X_risk[\"RiskGroup\"] = np.where(X_risk[\"HighRisk\"] == 1, \"High Risk\", \"Low Risk\")\n",
        "\n",
        "# 6. 최종 세그먼트 조합\n",
        "X_risk[\"Segment\"] = X_risk[\"ValueGroup\"] + \" + \" + X_risk[\"RiskGroup\"]\n",
        "\n",
        "print(\"최종 세그먼트:\", X_risk[\"Segment\"].iloc[0])"
      ]
    },
    {
      "cell_type": "markdown",
      "metadata": {},
      "source": [
        "< Rule 기반 리스크 스코어 + 밸류 기준 = Rule-based Scoring> \n",
        "\n",
        "1.Value Score (spent 기준 = sales)\n",
        "\n",
        "목적: 고객이 회사에 가져다주는 매출(가치)을 기준으로 High/Low Value 그룹 구분 : 합계 0~2\n",
        "\n",
        "고객 쓴돈이 MonthlyCharges > 전체 고객의 median → +1\n",
        "\n",
        "고객 쓴돈이 TotalCharges > 전체 고객의 median → +1\n",
        "\n",
        "2.Risk Score (이탈 위험 점수) 이 고객이 언제든 이탈할 수 있는 “불안정 신호”를 계량화/즉, 서비스 계약이 불안정하거나 사용 행태가 이탈 위험 신호를 보이면 High Risk\n",
        "\n",
        "-계산 방법 (각 조건 만족 시 +1) : 합계 = 0~5\n",
        "\n",
        "Contract = Month-to-Month (단기 계약)\n",
        "\n",
        "tenure < Q25 (가입 기간이 짧음)\n",
        "\n",
        "PaperlessBilling = Yes (무통장/온라인 납부 → 충동적 이탈 가능성 ↑)\n",
        "\n",
        "InternetService = Fiber optic (경쟁사 이동 쉬움)\n",
        "\n",
        "PaymentMethod = Electronic check (이탈률 높은 결제수단)\n",
        "\n",
        "\n",
        "| Value Score | Risk Score | Segment                    | 전략                               |\n",
        "| ----------- | ---------- | -------------------------- | -------------------------------- |\n",
        "| High (≥1)   | High (≥2)  | **High Value + High Risk** | VIP Retention (할인/번들 제공, 1순위 관리) |\n",
        "| High (≥1)   | Low (<2)   | **High Value + Low Risk**  | Upsell (프리미엄 상품, 로열티 강화)         |\n",
        "| Low (<1)    | High (≥2)  | **Low Value + High Risk**  | 저비용 캠페인 (필요시 churn 허용)           |\n",
        "| Low (<1)    | Low (<2)   | **Low Value + Low Risk**   | Mass Campaign (자동화, 대규모 마케팅)     |\n"
      ]
    },
    {
      "cell_type": "code",
      "execution_count": 481,
      "metadata": {},
      "outputs": [
        {
          "name": "stdout",
          "output_type": "stream",
          "text": [
            "예측 확률: [[0.97346111 0.02653889]]\n",
            "예측 결과: No Churn\n",
            "최종 세그먼트: High Value + Low Risk\n"
          ]
        }
      ],
      "source": [
        "new_customer = pd.DataFrame([{\n",
        "    \"gender\": \"Female\",\n",
        "    \"SeniorCitizen\": 0,\n",
        "    \"Partner\": \"Yes\",\n",
        "    \"Dependents\": \"Yes\",\n",
        "    \"tenure\": 36,\n",
        "    \"PhoneService\": \"Yes\",\n",
        "    \"MultipleLines\": \"Yes\",\n",
        "    \"InternetService\": \"DSL\",\n",
        "    \"OnlineSecurity\": \"Yes\",\n",
        "    \"OnlineBackup\": \"Yes\",\n",
        "    \"DeviceProtection\": \"Yes\",\n",
        "    \"TechSupport\": \"Yes\",\n",
        "    \"StreamingTV\": \"No\",\n",
        "    \"StreamingMovies\": \"No\",\n",
        "    \"Contract\": \"Two year\",\n",
        "    \"PaperlessBilling\": \"No\",\n",
        "    \"PaymentMethod\": \"Credit card (automatic)\",\n",
        "    \"MonthlyCharges\": 45.0,\n",
        "    \"TotalCharges\": 1600.0\n",
        "}])\n",
        "\n",
        "\n",
        "\n",
        "# 2. 이탈 확률 예측\n",
        "y_prob = pipeline.predict_proba(new_customer)\n",
        "print(\"예측 확률:\", y_prob)   # 예: [[0.4486 0.5513]]\n",
        "churn_pred = pipeline.predict(new_customer)[0]\n",
        "print(\"예측 결과:\", \"Churn\" if churn_pred==1 else \"No Churn\")\n",
        "\n",
        "# 3. Risk 단계까지만 변환해서 파생변수 확인\n",
        "X_risk = pipeline.named_steps[\"risk\"].transform(new_customer)\n",
        "\n",
        "# 4. Value 그룹 정의 (Median 기준 or 특정 Threshold)\n",
        "median_monthly = X[\"MonthlyCharges\"].median()\n",
        "median_total   = X[\"TotalCharges\"].median()\n",
        "\n",
        "X_risk[\"ValueGroup\"] = np.where(\n",
        "    (X_risk[\"MonthlyCharges\"] > median_monthly) | (X_risk[\"TotalCharges\"] > median_total),\n",
        "    \"High Value\", \"Low Value\"\n",
        ")\n",
        "\n",
        "# 5. Risk 그룹 정의 (RiskScore 활용)\n",
        "X_risk[\"RiskGroup\"] = np.where(X_risk[\"HighRisk\"] == 1, \"High Risk\", \"Low Risk\")\n",
        "\n",
        "# 6. 최종 세그먼트 조합\n",
        "X_risk[\"Segment\"] = X_risk[\"ValueGroup\"] + \" + \" + X_risk[\"RiskGroup\"]\n",
        "\n",
        "print(\"최종 세그먼트:\", X_risk[\"Segment\"].iloc[0])"
      ]
    },
    {
      "cell_type": "code",
      "execution_count": 482,
      "metadata": {},
      "outputs": [
        {
          "name": "stdout",
          "output_type": "stream",
          "text": [
            "예측 확률: [[0.96831517 0.03168482]]\n",
            "예측 결과: No Churn\n",
            "최종 세그먼트: Low Value + Low Risk\n"
          ]
        }
      ],
      "source": [
        "new_customer = pd.DataFrame([{\n",
        "    \"gender\": \"Female\",\n",
        "    \"SeniorCitizen\": 0,\n",
        "    \"Partner\": \"Yes\",\n",
        "    \"Dependents\": \"Yes\",\n",
        "    \"tenure\": 24,                       # 충분히 오래 사용 → 안정적\n",
        "    \"PhoneService\": \"Yes\",\n",
        "    \"MultipleLines\": \"Yes\",\n",
        "    \"InternetService\": \"DSL\",           # Fiber 아님 → 안정적\n",
        "    \"OnlineSecurity\": \"Yes\",\n",
        "    \"OnlineBackup\": \"Yes\",\n",
        "    \"DeviceProtection\": \"Yes\",\n",
        "    \"TechSupport\": \"Yes\",\n",
        "    \"StreamingTV\": \"No\",\n",
        "    \"StreamingMovies\": \"No\",\n",
        "    \"Contract\": \"Two year\",             # 장기 계약\n",
        "    \"PaperlessBilling\": \"No\",           # 종이 청구서\n",
        "    \"PaymentMethod\": \"Credit card (automatic)\", # 자동이체 → 안정적\n",
        "    \"MonthlyCharges\": 40.0,             # median 보다 낮음\n",
        "    \"TotalCharges\": 800.0               # median 보다 낮음\n",
        "}])\n",
        "\n",
        "\n",
        "# 2. 이탈 확률 예측\n",
        "y_prob = pipeline.predict_proba(new_customer)\n",
        "print(\"예측 확률:\", y_prob)   # 예: [[0.4486 0.5513]]\n",
        "churn_pred = pipeline.predict(new_customer)[0]\n",
        "print(\"예측 결과:\", \"Churn\" if churn_pred==1 else \"No Churn\")\n",
        "\n",
        "# 3. Risk 단계까지만 변환해서 파생변수 확인\n",
        "X_risk = pipeline.named_steps[\"risk\"].transform(new_customer)\n",
        "\n",
        "# 4. Value 그룹 정의 (Median 기준 or 특정 Threshold)\n",
        "median_monthly = X[\"MonthlyCharges\"].median()\n",
        "median_total   = X[\"TotalCharges\"].median()\n",
        "\n",
        "X_risk[\"ValueGroup\"] = np.where(\n",
        "    (X_risk[\"MonthlyCharges\"] > median_monthly) | (X_risk[\"TotalCharges\"] > median_total),\n",
        "    \"High Value\", \"Low Value\"\n",
        ")\n",
        "\n",
        "# 5. Risk 그룹 정의 (RiskScore 활용)\n",
        "X_risk[\"RiskGroup\"] = np.where(X_risk[\"HighRisk\"] == 1, \"High Risk\", \"Low Risk\")\n",
        "\n",
        "# 6. 최종 세그먼트 조합\n",
        "X_risk[\"Segment\"] = X_risk[\"ValueGroup\"] + \" + \" + X_risk[\"RiskGroup\"]\n",
        "\n",
        "print(\"최종 세그먼트:\", X_risk[\"Segment\"].iloc[0])"
      ]
    },
    {
      "cell_type": "code",
      "execution_count": 483,
      "metadata": {},
      "outputs": [
        {
          "name": "stdout",
          "output_type": "stream",
          "text": [
            "[{'gender': 'Male', 'SeniorCitizen': 0, 'Partner': 'No', 'Dependents': 'No', 'tenure': 13, 'PhoneService': 'No', 'MultipleLines': 'Yes', 'InternetService': 'DSL', 'OnlineSecurity': 'No', 'OnlineBackup': 'Yes', 'DeviceProtection': 'Yes', 'TechSupport': 'Yes', 'StreamingTV': 'No', 'StreamingMovies': 'Yes', 'Contract': 'Month-to-Month', 'PaperlessBilling': 'No', 'PaymentMethod': 'Mailed check', 'MonthlyCharges': 58.74, 'TotalCharges': 3609.56, 'Churn': 'No', 'Email': 'customer1@example.com'}, {'gender': 'Male', 'SeniorCitizen': 1, 'Partner': 'Yes', 'Dependents': 'No', 'tenure': 7, 'PhoneService': 'Yes', 'MultipleLines': 'No', 'InternetService': 'Fiber optic', 'OnlineSecurity': 'Yes', 'OnlineBackup': 'No', 'DeviceProtection': 'Yes', 'TechSupport': 'No', 'StreamingTV': 'Yes', 'StreamingMovies': 'No', 'Contract': 'Two year', 'PaperlessBilling': 'Yes', 'PaymentMethod': 'Bank transfer (automatic)', 'MonthlyCharges': 41.81, 'TotalCharges': 4791.87, 'Churn': 'Yes', 'Email': 'customer2@example.com'}, {'gender': 'Female', 'SeniorCitizen': 0, 'Partner': 'Yes', 'Dependents': 'No', 'tenure': 52, 'PhoneService': 'No', 'MultipleLines': 'Yes', 'InternetService': 'DSL', 'OnlineSecurity': 'Yes', 'OnlineBackup': 'No', 'DeviceProtection': 'Yes', 'TechSupport': 'No', 'StreamingTV': 'Yes', 'StreamingMovies': 'Yes', 'Contract': 'Two year', 'PaperlessBilling': 'Yes', 'PaymentMethod': 'Electronic check', 'MonthlyCharges': 65.91, 'TotalCharges': 1908.34, 'Churn': 'Yes', 'Email': 'customer3@example.com'}]\n"
          ]
        }
      ],
      "source": [
        "import gspread\n",
        "from oauth2client.service_account import ServiceAccountCredentials\n",
        "\n",
        "# 인증 스코프\n",
        "scope = [\"https://spreadsheets.google.com/feeds\",\n",
        "         \"https://www.googleapis.com/auth/drive\"]\n",
        "\n",
        "json_key_path = r\"C:\\Users\\honor\\OneDrive\\Desktop\\customer-crm-470315-59aca836b26d.json\"\n",
        "creds = ServiceAccountCredentials.from_json_keyfile_name(json_key_path, scope)\n",
        "client = gspread.authorize(creds)\n",
        "\n",
        "# ✅ 새로운 스프레드시트 ID 사용\n",
        "sheet = client.open_by_key(\"1LNBXDzzQzDznTBHTpc8bkFBZ1A36Ux5ll3j9kQNnoGQ\").sheet1\n",
        "\n",
        "# 데이터 읽기\n",
        "records = sheet.get_all_records()\n",
        "print(records[:3])\n"
      ]
    },
    {
      "cell_type": "code",
      "execution_count": null,
      "metadata": {},
      "outputs": [],
      "source": [
        "\n",
        "\n"
      ]
    },
    {
      "cell_type": "code",
      "execution_count": null,
      "metadata": {},
      "outputs": [],
      "source": []
    },
    {
      "cell_type": "code",
      "execution_count": 484,
      "metadata": {},
      "outputs": [
        {
          "data": {
            "text/plain": [
              "{'spreadsheetId': '1LNBXDzzQzDznTBHTpc8bkFBZ1A36Ux5ll3j9kQNnoGQ',\n",
              " 'updatedRange': \"'시트1'!A1:X21\",\n",
              " 'updatedRows': 21,\n",
              " 'updatedColumns': 24,\n",
              " 'updatedCells': 504}"
            ]
          },
          "execution_count": 484,
          "metadata": {},
          "output_type": "execute_result"
        }
      ],
      "source": [
        "import gspread\n",
        "from oauth2client.service_account import ServiceAccountCredentials\n",
        "import pandas as pd\n",
        "\n",
        "scope = [\"https://spreadsheets.google.com/feeds\",\n",
        "         \"https://www.googleapis.com/auth/drive\"]\n",
        "creds = ServiceAccountCredentials.from_json_keyfile_name(\n",
        "    r\"C:\\Users\\honor\\OneDrive\\Desktop\\customer-crm-470315-59aca836b26d.json\", scope\n",
        ")\n",
        "client = gspread.authorize(creds)\n",
        "\n",
        "SHEET_ID = \"1LNBXDzzQzDznTBHTpc8bkFBZ1A36Ux5ll3j9kQNnoGQ\"\n",
        "sheet = client.open_by_key(SHEET_ID).sheet1\n",
        "df = pd.DataFrame(sheet.get_all_records())\n",
        "\n",
        "y_prob = pipeline.predict_proba(df)[:, 1]\n",
        "y_pred = pipeline.predict(df)\n",
        "\n",
        "X_risk = pipeline.named_steps[\"risk\"].transform(df)\n",
        "df[\"Segment\"] = np.where(X_risk[\"HighRisk\"] == 1, \"High Risk\", \"Low Risk\")\n",
        "df[\"ChurnProb\"] = np.round(y_prob, 3)\n",
        "df[\"ChurnPred\"] = np.where(y_pred == 1, \"Churn\", \"No Churn\")\n",
        "\n",
        "\n",
        "sheet.update([df.columns.values.tolist()] + df.values.tolist())\n",
        "\n",
        "\n"
      ]
    },
    {
      "cell_type": "code",
      "execution_count": null,
      "metadata": {},
      "outputs": [],
      "source": []
    }
  ],
  "metadata": {
    "colab": {
      "provenance": []
    },
    "kernelspec": {
      "display_name": "3.11.3",
      "language": "python",
      "name": "python3"
    },
    "language_info": {
      "codemirror_mode": {
        "name": "ipython",
        "version": 3
      },
      "file_extension": ".py",
      "mimetype": "text/x-python",
      "name": "python",
      "nbconvert_exporter": "python",
      "pygments_lexer": "ipython3",
      "version": "3.11.3"
    }
  },
  "nbformat": 4,
  "nbformat_minor": 0
}
